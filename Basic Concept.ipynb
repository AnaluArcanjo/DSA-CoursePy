{
 "cells": [
  {
   "cell_type": "code",
   "execution_count": 66,
   "metadata": {},
   "outputs": [],
   "source": [
    "from platform import python_version\n",
    "# print('Versão da Linguagem Python Usada Neste Jupyter Notebook:', python_version())\n",
    "\n",
    "import math\n",
    "import pandas as pd\n",
    "#pd.__version__\n",
    "import os\n",
    "import csv \n",
    "import json\n",
    "import random\n",
    "import statistics\n",
    "import statistics\n",
    "import numpy\n",
    "import re\n",
    "\n",
    "from collections import Counter\n",
    "from urllib import request \t#import urllib.request\n",
    "from functools import reduce\n",
    "from IPython.display import Image\n",
    "\n",
    "from numpy import sqrt\n",
    "\n",
    "#dir(numpy)"
   ]
  },
  {
   "cell_type": "markdown",
   "metadata": {},
   "source": [
    "## GITHUB"
   ]
  },
  {
   "cell_type": "markdown",
   "metadata": {},
   "source": [
    "### git init\n",
    "\n",
    "### git add .\n",
    " \n",
    "### git commit  -m \"atualização \"\n",
    "\n",
    "### git push origin"
   ]
  },
  {
   "cell_type": "markdown",
   "metadata": {},
   "source": [
    "# Basic"
   ]
  },
  {
   "cell_type": "markdown",
   "metadata": {},
   "source": [
    "\n",
    "https://pypi.org/"
   ]
  },
  {
   "cell_type": "markdown",
   "metadata": {},
   "source": [
    "### Help"
   ]
  },
  {
   "cell_type": "code",
   "execution_count": null,
   "metadata": {},
   "outputs": [],
   "source": [
    "# A função help() explica como utilizar cada método de um objeto\n",
    "lista = [100, -2, 12, 65, 0]\n",
    " \n",
    "help(lista.count)\n",
    "type(lista)\n",
    "\n"
   ]
  },
  {
   "cell_type": "code",
   "execution_count": null,
   "metadata": {},
   "outputs": [],
   "source": [
    "# A função dir() mostra todos os métodos e atributos de um objeto\n",
    "dir(lista)"
   ]
  },
  {
   "cell_type": "markdown",
   "metadata": {},
   "source": [
    "### len() / range()"
   ]
  },
  {
   "cell_type": "code",
   "execution_count": 66,
   "metadata": {},
   "outputs": [
    {
     "name": "stdout",
     "output_type": "stream",
     "text": [
      "10\n"
     ]
    }
   ],
   "source": [
    "#LEN()\n",
    "lista = ['Ana', 'Jane', 'Beto', 'Julia', 'Cris', 'Lucas', 'Pedro', 'Carla', 'Mariana', 'Paulo']\n",
    "\n",
    "print(len(lista))"
   ]
  },
  {
   "cell_type": "code",
   "execution_count": 6,
   "metadata": {},
   "outputs": [
    {
     "name": "stdout",
     "output_type": "stream",
     "text": [
      "[0, 1, 2, 3, 4, 5, 6, 7, 8, 9]\n"
     ]
    }
   ],
   "source": [
    "# lista = range(10) #Retorna uma lista de 0 até 9 SEQUENCIA\n",
    "print(list(range(10)))"
   ]
  },
  {
   "cell_type": "code",
   "execution_count": 57,
   "metadata": {},
   "outputs": [],
   "source": [
    "nome = \"Lucas\"\n",
    "sobrenome = \"Santos\""
   ]
  },
  {
   "cell_type": "code",
   "execution_count": 60,
   "metadata": {},
   "outputs": [
    {
     "name": "stdout",
     "output_type": "stream",
     "text": [
      "Lucas Santos\n"
     ]
    },
    {
     "data": {
      "text/plain": [
       "12"
      ]
     },
     "execution_count": 60,
     "metadata": {},
     "output_type": "execute_result"
    }
   ],
   "source": [
    "nomeCompleto = nome + \" \" + sobrenome\n",
    "print(nomeCompleto)\n",
    "\n",
    "len(nomeCompleto) #Retorna o tamanho da string\n"
   ]
  },
  {
   "cell_type": "code",
   "execution_count": 10,
   "metadata": {},
   "outputs": [
    {
     "data": {
      "text/plain": [
       "'Lucas Santo'"
      ]
     },
     "execution_count": 10,
     "metadata": {},
     "output_type": "execute_result"
    }
   ],
   "source": [
    "nomeCompleto[0] #Retorna a primeira letra da string\n",
    "nomeCompleto[1: ] #Retorna a string a partir da segunda letra\n",
    "nomeCompleto[ :3] #Retorna a string até a terceira letra\n",
    "nomeCompleto[: -1] #Retorna a string até a penúltima letra"
   ]
  },
  {
   "cell_type": "markdown",
   "metadata": {},
   "source": [
    " # Funções Built - In"
   ]
  },
  {
   "cell_type": "code",
   "execution_count": null,
   "metadata": {},
   "outputs": [],
   "source": [
    "# abs: valor absoluto/positivo do número\n",
    "abs(-56)\n",
    "\n",
    "#int: arredonda o valor para inteiro\n",
    "int(4.3)\n",
    "\n",
    "#str: converte o valor para string\n",
    "str(13)\n",
    "\n",
    "#float: converte o valor para float/decimal\n",
    "float(5)"
   ]
  },
  {
   "cell_type": "code",
   "execution_count": null,
   "metadata": {},
   "outputs": [],
   "source": [
    "#bool: retorna True se o valor for diferente de zero e False se for igual a zero\n",
    "bool(-0)"
   ]
  },
  {
   "cell_type": "markdown",
   "metadata": {},
   "source": [
    "### range ()\n",
    "A função range() cria uma sequência de números inteiros. Quando usamos range(len(lista)), ela cria uma sequência de números de 0 até len(lista)-1"
   ]
  },
  {
   "cell_type": "code",
   "execution_count": 73,
   "metadata": {},
   "outputs": [],
   "source": [
    "lista = [47, 11, 42, 13]"
   ]
  },
  {
   "cell_type": "code",
   "execution_count": 105,
   "metadata": {},
   "outputs": [
    {
     "name": "stdout",
     "output_type": "stream",
     "text": [
      " 47\n",
      " 11\n",
      " 42\n",
      " 13\n",
      "\n",
      " imprimindo o ultimo elemento da lista 13\n"
     ]
    }
   ],
   "source": [
    "# IMPRIMINDO TODOS OS VALORES DA LISTA, cnf TAMANHO DA LISTA\n",
    "lista = [47, 11, 42, 13]\n",
    "\n",
    "for i in range(len(lista)):\n",
    "    print(f'', lista[i])  # Acessa e imprime cada elemento da lista pelo índice\n",
    "\n",
    "print(f'\\n imprimindo o ultimo elemento da lista', lista[i])"
   ]
  },
  {
   "cell_type": "code",
   "execution_count": 95,
   "metadata": {},
   "outputs": [
    {
     "name": "stdout",
     "output_type": "stream",
     "text": [
      " somando posição uma a uma dos elementos da lista  0\n",
      " somando posição uma a uma dos elementos da lista  1\n",
      " somando posição uma a uma dos elementos da lista  3\n",
      " somando posição uma a uma dos elementos da lista  6\n",
      "\n",
      " soma de todas as posições 6\n"
     ]
    }
   ],
   "source": [
    "#IMPRIME o valor da posição ***wrong code \n",
    "val = 0\n",
    "for i in range(len(lista)):\n",
    "\tval += i\n",
    "\tprint(f' somando posição uma a uma dos elementos da lista ', val)\n",
    "\n",
    "print(f'\\n soma de todas as posições', val)"
   ]
  },
  {
   "cell_type": "code",
   "execution_count": 87,
   "metadata": {},
   "outputs": [
    {
     "name": "stdout",
     "output_type": "stream",
     "text": [
      "A soma de todos os elementos da lista é: 113\n"
     ]
    }
   ],
   "source": [
    "#SOMA DE TODOS OS ELEMENTOS DA LISTA\n",
    "val = 0\n",
    "for i in lista:\n",
    "\tval += i\n",
    "\n",
    "print(f'A soma de todos os elementos da lista é: {val}')"
   ]
  },
  {
   "cell_type": "markdown",
   "metadata": {},
   "source": [
    "### others"
   ]
  },
  {
   "cell_type": "code",
   "execution_count": 11,
   "metadata": {},
   "outputs": [
    {
     "name": "stdout",
     "output_type": "stream",
     "text": [
      "Data Science Academy\n"
     ]
    }
   ],
   "source": [
    "# Concatenando strings\n",
    "# Atribuindo uma string\n",
    "s = 'Data Science Academy'\n",
    "print(s)"
   ]
  },
  {
   "cell_type": "code",
   "execution_count": 12,
   "metadata": {},
   "outputs": [
    {
     "name": "stdout",
     "output_type": "stream",
     "text": [
      "Data Science Academy é a melhor maneira de estar preparado para o mercado de trabalho em Ciência de Dados!\n"
     ]
    }
   ],
   "source": [
    "s = s + ' é a melhor maneira de estar preparado para o mercado de trabalho em Ciência de Dados!'\n",
    "print(s)"
   ]
  },
  {
   "cell_type": "code",
   "execution_count": 14,
   "metadata": {},
   "outputs": [
    {
     "data": {
      "text/plain": [
       "'DATA SCIENCE ACADEMY É A MELHOR MANEIRA DE ESTAR PREPARADO PARA O MERCADO DE TRABALHO EM CIÊNCIA DE DADOS!'"
      ]
     },
     "execution_count": 14,
     "metadata": {},
     "output_type": "execute_result"
    }
   ],
   "source": [
    "# Upper Case \n",
    "s.upper() # tudo em maiúscula\n"
   ]
  },
  {
   "cell_type": "code",
   "execution_count": 17,
   "metadata": {},
   "outputs": [
    {
     "data": {
      "text/plain": [
       "'data science academy é a melhor maneira de estar preparado para o mercado de trabalho em ciência de dados!'"
      ]
     },
     "execution_count": 17,
     "metadata": {},
     "output_type": "execute_result"
    }
   ],
   "source": [
    "# Lower case\n",
    "s.lower() # tudo em minúscula\n"
   ]
  },
  {
   "cell_type": "code",
   "execution_count": 18,
   "metadata": {},
   "outputs": [
    {
     "data": {
      "text/plain": [
       "['Data',\n",
       " 'Science',\n",
       " 'Academy',\n",
       " 'é',\n",
       " 'a',\n",
       " 'melhor',\n",
       " 'maneira',\n",
       " 'de',\n",
       " 'estar',\n",
       " 'preparado',\n",
       " 'para',\n",
       " 'o',\n",
       " 'mercado',\n",
       " 'de',\n",
       " 'trabalho',\n",
       " 'em',\n",
       " 'Ciência',\n",
       " 'de',\n",
       " 'Dados!']"
      ]
     },
     "execution_count": 18,
     "metadata": {},
     "output_type": "execute_result"
    }
   ],
   "source": [
    "# Dividir uma string por espaços em branco (padrão)\n",
    "s.split() # divide a string em uma lista"
   ]
  },
  {
   "cell_type": "code",
   "execution_count": 56,
   "metadata": {},
   "outputs": [
    {
     "name": "stdout",
     "output_type": "stream",
     "text": [
      "['Isso', 'é', 'uma', 'string']\n"
     ]
    }
   ],
   "source": [
    "# O método de um objeto pode ser chamado dentro de uma função, como print()\n",
    "frase = 'Isso é uma string'\n",
    "print (frase.split())"
   ]
  },
  {
   "cell_type": "code",
   "execution_count": 19,
   "metadata": {},
   "outputs": [
    {
     "data": {
      "text/plain": [
       "['Data Science Academ',\n",
       " ' é a melhor maneira de estar preparado para o mercado de trabalho em Ciência de Dados!']"
      ]
     },
     "execution_count": 19,
     "metadata": {},
     "output_type": "execute_result"
    }
   ],
   "source": [
    "# Dividir uma string por um elemento específico\n",
    "s.split('y') # divide a string em uma lista depois do caracter 'y'"
   ]
  },
  {
   "cell_type": "markdown",
   "metadata": {},
   "source": [
    "# Funções String"
   ]
  },
  {
   "cell_type": "code",
   "execution_count": 20,
   "metadata": {},
   "outputs": [],
   "source": [
    "s = 'seja bem vindo ao universo da Linguagem Python!'"
   ]
  },
  {
   "cell_type": "code",
   "execution_count": 21,
   "metadata": {},
   "outputs": [
    {
     "data": {
      "text/plain": [
       "'Seja bem vindo ao universo da linguagem python!'"
      ]
     },
     "execution_count": 21,
     "metadata": {},
     "output_type": "execute_result"
    }
   ],
   "source": [
    "s.capitalize() # capitaliza a primeira letra da string para Maiúscula"
   ]
  },
  {
   "cell_type": "code",
   "execution_count": 22,
   "metadata": {},
   "outputs": [
    {
     "data": {
      "text/plain": [
       "4"
      ]
     },
     "execution_count": 22,
     "metadata": {},
     "output_type": "execute_result"
    }
   ],
   "source": [
    "s.count('a') # conta o número de vezes que a letra 'a' aparece na string"
   ]
  },
  {
   "cell_type": "code",
   "execution_count": 23,
   "metadata": {},
   "outputs": [
    {
     "data": {
      "text/plain": [
       "False"
      ]
     },
     "execution_count": 23,
     "metadata": {},
     "output_type": "execute_result"
    }
   ],
   "source": [
    "s.isalnum() # verifica se todos os caracteres na string são alfanuméricos"
   ]
  },
  {
   "cell_type": "code",
   "execution_count": 24,
   "metadata": {},
   "outputs": [
    {
     "data": {
      "text/plain": [
       "False"
      ]
     },
     "execution_count": 24,
     "metadata": {},
     "output_type": "execute_result"
    }
   ],
   "source": [
    "s.islower() # verifica se todos os caracteres na string estão em minúsculas"
   ]
  },
  {
   "cell_type": "code",
   "execution_count": 25,
   "metadata": {},
   "outputs": [
    {
     "data": {
      "text/plain": [
       "False"
      ]
     },
     "execution_count": 25,
     "metadata": {},
     "output_type": "execute_result"
    }
   ],
   "source": [
    "s.isspace() # verifica se todos os caracteres na string são espaços em branco"
   ]
  },
  {
   "cell_type": "code",
   "execution_count": 26,
   "metadata": {},
   "outputs": [
    {
     "data": {
      "text/plain": [
       "False"
      ]
     },
     "execution_count": 26,
     "metadata": {},
     "output_type": "execute_result"
    }
   ],
   "source": [
    "s.endswith('o') # verifica se a string termina com a letra 'o'"
   ]
  },
  {
   "cell_type": "code",
   "execution_count": null,
   "metadata": {},
   "outputs": [],
   "source": [
    "#insert\t\t# Adiciona o número 5 na posição 1 da lista\n",
    "\n",
    "#extend\t\t# Adiciona os números 6 e 7 ao final da lista\n",
    "\n",
    "#append\t\t# Adiciona o número 4 ao final da lista"
   ]
  },
  {
   "cell_type": "markdown",
   "metadata": {},
   "source": [
    "# LISTAS [ ]"
   ]
  },
  {
   "cell_type": "code",
   "execution_count": 15,
   "metadata": {},
   "outputs": [
    {
     "name": "stdout",
     "output_type": "stream",
     "text": [
      "[0, 10, 1, 2, 3, 4, 6, 7]\n"
     ]
    }
   ],
   "source": [
    "#INSERINDO E DELETANDO ELEMENTOS DE UMA LISTA\n",
    "minha_lista = [0, 1, 2, 3]\n",
    "\n",
    "minha_lista.append(4)  # Adiciona o número 4 ao final da lista\n",
    "minha_lista.extend([6, 7])  # Adiciona os números 6 e 7 ao final da lista\n",
    "minha_lista.insert(1, 10)  # Adiciona o número 10 na posição 1 da lista\n",
    "\n",
    "#del minha_lista[1]  \n",
    "\n",
    "print(minha_lista)"
   ]
  },
  {
   "cell_type": "code",
   "execution_count": 17,
   "metadata": {},
   "outputs": [
    {
     "name": "stdout",
     "output_type": "stream",
     "text": [
      "2\n"
     ]
    }
   ],
   "source": [
    "#SUBSTITUINDO ELEMENTOS DE UMA LISTA\n",
    "minha_lista = [10, 20, 30, 40, 50, 0]\n",
    "\n",
    "novo_valor = minha_lista.index(30) \t#consultando o indice do valor 30\n",
    "# print(novo_valor)\n",
    "minha_lista[novo_valor] = 35        # Substituindo 30 por 35\n",
    "print(minha_lista)"
   ]
  },
  {
   "cell_type": "code",
   "execution_count": 4,
   "metadata": {},
   "outputs": [
    {
     "name": "stdout",
     "output_type": "stream",
     "text": [
      "Concatenando lista1 e Lista2: [1, 2, 3, 4, 5, 6]\n"
     ]
    }
   ],
   "source": [
    "#CONCATENANDO LISTAS\n",
    "lista_1 = [1, 2, 3]\n",
    "lista_2 = [4, 5, 6]\n",
    "\n",
    "listaFinal = lista_1 + lista_2\n",
    "print(f'Concatenando lista1 e Lista2: {listaFinal}')"
   ]
  },
  {
   "cell_type": "markdown",
   "metadata": {},
   "source": [
    "##### LISTAS e FOR"
   ]
  },
  {
   "cell_type": "code",
   "execution_count": 23,
   "metadata": {},
   "outputs": [
    {
     "name": "stdout",
     "output_type": "stream",
     "text": [
      " Juntando as duas lista. Gerou uma nova lista, Lista Nova: [1, 2, 3, 4]\n"
     ]
    }
   ],
   "source": [
    "lista_velha = [1, 2, 3, 4]\n",
    "lista_nova = []\n",
    "\n",
    "for item in lista_velha:\n",
    "\tlista_nova.append(item) \t\t#APPEND: adiciona 'item' na variável \"lista_nova\"\n",
    "\n",
    "print(f' Juntando as duas lista. Gerou uma nova lista, Lista Nova: {lista_nova}')\n"
   ]
  },
  {
   "cell_type": "markdown",
   "metadata": {},
   "source": [
    "##### LISTA DE LISTAS"
   ]
  },
  {
   "cell_type": "code",
   "execution_count": 27,
   "metadata": {},
   "outputs": [
    {
     "name": "stdout",
     "output_type": "stream",
     "text": [
      "Lista ofc: [[1, 2, 3], [10, 15, 14], [10.1, 8.7, 2.3]]\n",
      "\n",
      " Consultando valor da primeira lista: 2\n"
     ]
    }
   ],
   "source": [
    "#CONSULTANDO LISTAS DENTRO DA MESMAS LISTAS\n",
    "listas = [[1,2,3], [10,15,14], [10.1,8.7,2.3]]\n",
    "print(f'Lista ofc: {listas}')\n",
    "\n",
    "a = listas[0][1] # Consultando a pimeira lista, segundo elemento dessa lista\n",
    "print(f'\\n Consultando valor da primeira lista: {a}')"
   ]
  },
  {
   "cell_type": "code",
   "execution_count": 15,
   "metadata": {},
   "outputs": [
    {
     "name": "stdout",
     "output_type": "stream",
     "text": [
      "False\n"
     ]
    }
   ],
   "source": [
    "#CONSULTANDO ELEMENTOS DE UMA LISTA\n",
    "minha_lista = [1, 2, 3, 'Ana']\n",
    "\n",
    "print(150 in minha_lista) "
   ]
  },
  {
   "cell_type": "code",
   "execution_count": 18,
   "metadata": {},
   "outputs": [
    {
     "name": "stdout",
     "output_type": "stream",
     "text": [
      "Posição do elemento \"Ana\" dentro da Lista é: 3\n"
     ]
    }
   ],
   "source": [
    "#CONSULTANDO O ÍNDICE DE UM ELEMENTO NA LISTA com INDEX\n",
    "print(f'Posição do elemento \"Ana\" dentro da Lista é:' , minha_lista.index('Ana')) # Retorna o índice do elemento 3"
   ]
  },
  {
   "cell_type": "markdown",
   "metadata": {},
   "source": [
    "# DICIONÁRIOS { }"
   ]
  },
  {
   "cell_type": "code",
   "execution_count": 32,
   "metadata": {},
   "outputs": [
    {
     "data": {
      "text/plain": [
       "dict_items([('Pedro', 24), ('Ana', 22), ('Ronaldo', 26), ('Janaina', 25)])"
      ]
     },
     "execution_count": 32,
     "metadata": {},
     "output_type": "execute_result"
    }
   ],
   "source": [
    "#CONSULTANDO O VALORES NO DICIONÁRIO\n",
    "estudantes = {\"Pedro\":24, \"Ana\":22, \"Ronaldo\":26, \"Janaina\":25}\n",
    "\n",
    "estudantes.keys() # Retorna apenas as chaves do dicionário (valores que estão em \"aspas\")\n",
    "estudantes.values() # Retorna apenas os valores do dicionário (valores que estão fora de \"aspas\")\n",
    "estudantes.items() # Retorna todos os itens do dicionário"
   ]
  },
  {
   "cell_type": "markdown",
   "metadata": {},
   "source": [
    "### ATUALIZAR VALORES NO DICIONÁRIO"
   ]
  },
  {
   "cell_type": "code",
   "execution_count": 33,
   "metadata": {},
   "outputs": [
    {
     "data": {
      "text/plain": [
       "{'Pedro': 24,\n",
       " 'Ana': 22,\n",
       " 'Ronaldo': 26,\n",
       " 'Janaina': 25,\n",
       " 'Camila': 27,\n",
       " 'Adriana': 28,\n",
       " 'Roberta': 26}"
      ]
     },
     "execution_count": 33,
     "metadata": {},
     "output_type": "execute_result"
    }
   ],
   "source": [
    "#JUNTANDO DOIS DICIONÁRIOS\n",
    "estudantes2 = {\"Camila\":27, \"Adriana\":28, \"Roberta\":26}\n",
    "\n",
    "estudantes.update(estudantes2)# Atualiza o dicionário estudantes com os valores do dicionário estudantes2\n",
    "estudantes\n"
   ]
  },
  {
   "cell_type": "code",
   "execution_count": 36,
   "metadata": {},
   "outputs": [
    {
     "name": "stdout",
     "output_type": "stream",
     "text": [
      " novo dic com valores substituídos.  Pedro agora é 23: {'Pedro': 23, 'Ana': 22, 'Ronaldo': 26, 'Janaina': 25, 'Camila': 27, 'Adriana': 28, 'Roberta': 26, 'v': 23, 'Marcelo': 24}\n",
      " \n",
      " dic com um elemento adicionado. Marcelo agora é 24: {'Pedro': 23, 'Ana': 22, 'Ronaldo': 26, 'Janaina': 25, 'Camila': 27, 'Adriana': 28, 'Roberta': 26, 'v': 23, 'Marcelo': 24}\n"
     ]
    }
   ],
   "source": [
    "#SUBSTITUINDO ELEMENTOS DE UM DICIONÁRIO\n",
    "estudantes[\"Pedro\"] = 23\n",
    "print(f' novo dic com valores substituídos.  Pedro agora é 23: {estudantes}')\n",
    "\n",
    "#ADICIONANDO ELEMENTOS EM UM DICIONÁRIO\n",
    "estudantes[\"Marcelo\"] = 24\n",
    "print(f' \\n dic com um elemento adicionado. Marcelo agora é 24: {estudantes}')\n"
   ]
  },
  {
   "cell_type": "code",
   "execution_count": 35,
   "metadata": {},
   "outputs": [
    {
     "data": {
      "text/plain": [
       "{'key1': 'Data Science', 'key2': 10, 'key3': 100}"
      ]
     },
     "execution_count": 35,
     "metadata": {},
     "output_type": "execute_result"
    }
   ],
   "source": [
    "dict2 = {}\n",
    "\n",
    "dict2[\"key1\"] = \"Data Science\"\n",
    "dict2[\"key2\"] = 10\n",
    "dict2[\"key3\"] = 100\n",
    "dict2"
   ]
  },
  {
   "cell_type": "code",
   "execution_count": 47,
   "metadata": {},
   "outputs": [
    {
     "data": {
      "text/plain": [
       "('Data Science', 10, 100)"
      ]
     },
     "execution_count": 47,
     "metadata": {},
     "output_type": "execute_result"
    }
   ],
   "source": [
    "a = dict2[\"key1\"]\n",
    "b = dict2[\"key2\"]\n",
    "c = dict2[\"key3\"]\n",
    "a, b, c"
   ]
  },
  {
   "cell_type": "markdown",
   "metadata": {},
   "source": [
    "### DICIONÁRIOS COM LISTAS"
   ]
  },
  {
   "cell_type": "code",
   "execution_count": 36,
   "metadata": {},
   "outputs": [
    {
     "name": "stdout",
     "output_type": "stream",
     "text": [
      "{'chave1': 1230, 'list1': [20, 453, 73.4], 'list2': ['picanha', 'fraldinha', 'alcatra']}\n"
     ]
    },
    {
     "data": {
      "text/plain": [
       "{'chave1': 1232,\n",
       " 'list1': [20, 453, 73.4],\n",
       " 'list2': ['picanha', 'fraldinha', 'alcatra']}"
      ]
     },
     "execution_count": 36,
     "metadata": {},
     "output_type": "execute_result"
    }
   ],
   "source": [
    "#SUBSTITUINDO ELEMENTOS DE UMA LISTA DENTRO DO DICIONÁRIO\n",
    "dict3 = {'chave1':1230, 'list1':[22,453,73.4], 'list2':['picanha', 'fraldinha', 'alcatra']}\n",
    "\n",
    "dict3['list1'][0] -= 2 # Subtrai um valor do primeiro elemento da lista na list1\n",
    "print(dict3)\n",
    "\n",
    "#SOMANDO ELEMENTOS DENTRO DO DICIONÁRIO\n",
    "dict3['chave1'] += 2 # Soma +2 ao elemento da chave1\n",
    "dict3"
   ]
  },
  {
   "cell_type": "markdown",
   "metadata": {},
   "source": [
    "### DICIONÁRIOS ANINHADOS"
   ]
  },
  {
   "cell_type": "code",
   "execution_count": 53,
   "metadata": {},
   "outputs": [],
   "source": [
    "# Criando dicionários aninhados\n",
    "dict_aninhado = {'key1':{'key2_aninhada':{'key3_aninhada':'Dict aninhado em Python'}}}"
   ]
  },
  {
   "cell_type": "code",
   "execution_count": 54,
   "metadata": {},
   "outputs": [
    {
     "data": {
      "text/plain": [
       "{'key1': {'key2_aninhada': {'key3_aninhada': 'Dict aninhado em Python'}}}"
      ]
     },
     "execution_count": 54,
     "metadata": {},
     "output_type": "execute_result"
    }
   ],
   "source": [
    "dict_aninhado"
   ]
  },
  {
   "cell_type": "code",
   "execution_count": 55,
   "metadata": {},
   "outputs": [
    {
     "data": {
      "text/plain": [
       "'Dict aninhado em Python'"
      ]
     },
     "execution_count": 55,
     "metadata": {},
     "output_type": "execute_result"
    }
   ],
   "source": [
    "dict_aninhado['key1']['key2_aninhada']['key3_aninhada']"
   ]
  },
  {
   "cell_type": "markdown",
   "metadata": {},
   "source": [
    "# TUPLAS ( )"
   ]
  },
  {
   "cell_type": "code",
   "execution_count": 5,
   "metadata": {},
   "outputs": [
    {
     "name": "stdout",
     "output_type": "stream",
     "text": [
      " Tupla tranformada em lista: [1, 2, 3, 4, 5]\n",
      "\n",
      " Resultado final da tupla depois de modificada: (1, 2, 3, 4, 5)\n"
     ]
    }
   ],
   "source": [
    "#MODIFICANDO ELEMENTOS DE UMA TUPLA\n",
    "tupla_ofc = (1, 2, 3, 4, 5)\n",
    "\n",
    "lista_tupla = list(tupla_ofc) # É necessário Converte a tupla em uma list\n",
    "print(f' Tupla tranformada em lista: {lista_tupla}')\n",
    "\n",
    "nova_tupla = tuple(lista_tupla) # Converte a lista em uma tupla\n",
    "print(f'\\n Resultado final da tupla depois de modificada: {nova_tupla}')"
   ]
  },
  {
   "cell_type": "markdown",
   "metadata": {},
   "source": [
    "# IF /ELIF / ELSE / FOR"
   ]
  },
  {
   "cell_type": "markdown",
   "metadata": {},
   "source": [
    "#### IF , ELIF e ELSE"
   ]
  },
  {
   "cell_type": "code",
   "execution_count": 3,
   "metadata": {},
   "outputs": [
    {
     "name": "stdout",
     "output_type": "stream",
     "text": [
      "Hoje vai chover!\n"
     ]
    }
   ],
   "source": [
    "# IF e ELIF\n",
    "dia = \"Terça\"\n",
    "\n",
    "if dia == \"Segunda\":\n",
    "    print(\"Hoje fará sol!\")\n",
    "elif dia == \"Terça\": \t \t\t\t\t #ELIF: Se a condição anterior não for atendida, verifique esta condição\n",
    "    print(\"Hoje vai chover!\")\n",
    "else:\n",
    "    print(\"Sem previsão do tempo para o dia selecionado\") # Se nenhuma das condições anteriores for atendida, execute este bloco#"
   ]
  },
  {
   "cell_type": "code",
   "execution_count": 5,
   "metadata": {},
   "outputs": [
    {
     "name": "stdout",
     "output_type": "stream",
     "text": [
      "Você foi aprovado em Data Science com média final 90!\n"
     ]
    }
   ],
   "source": [
    "# UTILIZANDO  (%) PLACEHOLDERS\n",
    "disciplina = 'Data Science'\n",
    "nota_final = 90\n",
    "semestre = 2\n",
    "\n",
    "if disciplina == 'Data Science' and nota_final >= 80 and semestre != 1:\n",
    "    print('Você foi aprovado em %s com média final %r!' %(disciplina, nota_final)) # %s e %r são placeholders\n",
    "else:\n",
    "    print('Lamento, acho que você precisa estudar mais!')"
   ]
  },
  {
   "cell_type": "markdown",
   "metadata": {},
   "source": [
    "### FOR"
   ]
  },
  {
   "cell_type": "code",
   "execution_count": null,
   "metadata": {},
   "outputs": [],
   "source": [
    "# for com TUPLA\n",
    "tp = (2,3,4)\n",
    "for i in tp:\n",
    "    print(i)\n",
    "    \n",
    "print('\\n')\n",
    "\n",
    "# Imprimindo os valores no intervalo entre 0 e 5 (exclusive)\n",
    "for contador in range(0,5):\n",
    "    print(contador)\n",
    "\n",
    "print('\\n')\n",
    "\n",
    "# Imprimindo os números pares da lista de números\n",
    "lista = [1,2,3,4,5,6,7,8,9,10]\n",
    "for num in lista:\n",
    "    if num % 2 == 0:\t\t #%: operador de módulo, retorna o resto da divisão\n",
    "        print (num)\n",
    "        \n",
    "print('\\n')\n",
    "\n",
    "# Listando os números no intervalo entre 0 e 60, de 2 em 2\n",
    "for i in range(0,60,2):  \n",
    "    print(i)\n",
    "    \n"
   ]
  },
  {
   "cell_type": "markdown",
   "metadata": {},
   "source": [
    "### FOR ANINHADO"
   ]
  },
  {
   "cell_type": "code",
   "execution_count": 16,
   "metadata": {},
   "outputs": [
    {
     "name": "stdout",
     "output_type": "stream",
     "text": [
      "O número 47 foi encontrado nas duas listas!\n"
     ]
    }
   ],
   "source": [
    "lista1 = [10,16,24,39,47]\n",
    "lista2 = [32,89,47,76,12]\n",
    "\n",
    "for elemento_lista1 in lista1:\n",
    "    \n",
    "   for elemento_lista2 in lista2:\n",
    "        \n",
    "      if elemento_lista1 == 47 and elemento_lista2 == 47:\n",
    "            \n",
    "         print(\"O número 47 foi encontrado nas duas listas!\")\n",
    "            "
   ]
  },
  {
   "cell_type": "code",
   "execution_count": 37,
   "metadata": {},
   "outputs": [
    {
     "name": "stdout",
     "output_type": "stream",
     "text": [
      "Soma dos valores pares: 170\n"
     ]
    }
   ],
   "source": [
    "#Soamndo elementos pares de duas listas\n",
    "lista1 = [10,16,24,39,47]\n",
    "lista2 = [32,89,47,76,12]\n",
    "soma = 0\n",
    " \n",
    "#for lista in [lista1, lista2]:\n",
    "#    for num in lista:\n",
    "#        if num % 2 == 0:\n",
    "#            soma += num\n",
    "\n",
    "for num in lista1 + lista2:  #for num in lista1 + lista2:  #Concatena as duas listas\n",
    "    if num % 2 == 0:\n",
    "      soma += num\n",
    "      # temp = soma + num\n",
    "      # soma = temp\n",
    "      \n",
    "print(\"Soma dos valores pares:\", soma)"
   ]
  },
  {
   "cell_type": "code",
   "execution_count": null,
   "metadata": {},
   "outputs": [
    {
     "name": "stdout",
     "output_type": "stream",
     "text": [
      "Maior número: 215\n"
     ]
    }
   ],
   "source": [
    "matriz = [[42, 23, 34], [100, 215, 114], [10.1, 98.7, 12.3]]\n",
    "maior_numero = 0\n",
    "\n",
    "# Loop externo\n",
    "for linha in matriz:\n",
    "    \n",
    "    # Loop interno\n",
    "    for num in linha:\n",
    "        \n",
    "        # Condicional\n",
    "        if num > maior_numero:\n",
    "            maior_numero = num\n",
    "\n",
    "print(\"Maior número:\", maior_numero)\n"
   ]
  },
  {
   "cell_type": "markdown",
   "metadata": {},
   "source": [
    "### FOR com DICIONÁRIO"
   ]
  },
  {
   "cell_type": "code",
   "execution_count": 25,
   "metadata": {},
   "outputs": [
    {
     "name": "stdout",
     "output_type": "stream",
     "text": [
      "k1\n",
      "k2\n",
      "k3\n"
     ]
    }
   ],
   "source": [
    "# Listando as chaves de um dicionário\n",
    "dict = {'k1':'Python','k2':'R','k3':'Scala'}\n",
    "for item in dict:\n",
    "    print(item)"
   ]
  },
  {
   "cell_type": "code",
   "execution_count": null,
   "metadata": {},
   "outputs": [],
   "source": [
    "# Imprimindo chave e valor do dicionário. Usando o método items() para retornar os itens de um dicionário\n",
    "dict = {'k1':'Python','k2':'R','k3':'Scala'}\n",
    "\n",
    "for k,v in dict.items():\n",
    "    print (k,v)"
   ]
  },
  {
   "cell_type": "markdown",
   "metadata": {},
   "source": [
    "### FOR and RANGE / LISTA"
   ]
  },
  {
   "cell_type": "code",
   "execution_count": null,
   "metadata": {},
   "outputs": [],
   "source": [
    "for lista_numeros in range(2,31):\n",
    "\t print(lista_numeros)"
   ]
  },
  {
   "cell_type": "code",
   "execution_count": 59,
   "metadata": {},
   "outputs": [
    {
     "data": {
      "text/plain": [
       "['Ana',\n",
       " 'Jane',\n",
       " 'Beto',\n",
       " 'Julia',\n",
       " 'Cris',\n",
       " 'Lucas',\n",
       " 'Pedro',\n",
       " 'Carla',\n",
       " 'Mariana',\n",
       " 'Paulo']"
      ]
     },
     "execution_count": 59,
     "metadata": {},
     "output_type": "execute_result"
    }
   ],
   "source": [
    "lista = ['Ana', 'Jane', 'Beto', 'Julia', 'Cris', 'Lucas', 'Pedro', 'Carla', 'Mariana', 'Paulo']\n",
    "\n",
    "# tamanho_lista =  len(lista)\n",
    "lista"
   ]
  },
  {
   "cell_type": "code",
   "execution_count": 47,
   "metadata": {},
   "outputs": [
    {
     "name": "stdout",
     "output_type": "stream",
     "text": [
      "Ana\n",
      "Jane\n",
      "Beto\n",
      "Julia\n",
      "Cris\n",
      "Lucas\n",
      "Pedro\n",
      "Carla\n",
      "Mariana\n",
      "Paulo\n"
     ]
    }
   ],
   "source": [
    "lista = ['Ana', 'Jane', 'Beto', 'Julia', 'Cris', 'Lucas', 'Pedro', 'Carla', 'Mariana', 'Paulo']\n",
    "# tamanho_lista = len(lista)\n",
    "\n",
    "for name in range(0, len(lista)):\n",
    "    print(lista[name])"
   ]
  },
  {
   "cell_type": "markdown",
   "metadata": {},
   "source": [
    "# WHILE"
   ]
  },
  {
   "cell_type": "code",
   "execution_count": null,
   "metadata": {},
   "outputs": [],
   "source": [
    "valor = 0\n",
    "while valor < 10:\n",
    "    print(valor)\n",
    "    valor = valor + 1"
   ]
  },
  {
   "cell_type": "markdown",
   "metadata": {},
   "source": [
    "#### WHILE  BREAK, PASS and CONTINUE "
   ]
  },
  {
   "cell_type": "code",
   "execution_count": 60,
   "metadata": {},
   "outputs": [
    {
     "name": "stdout",
     "output_type": "stream",
     "text": [
      "0\n",
      "1\n",
      "2\n",
      "3\n"
     ]
    }
   ],
   "source": [
    "# BREAK\n",
    "valor = 0\n",
    "while valor < 10:\n",
    "    if valor == 4:\n",
    "        break\t\t\t#interrompe o loop.  Se encontramos o número 4 interrompemos o loop\n",
    "    else:\n",
    "        pass\n",
    "    print(valor)\n",
    "    valor = valor + 1"
   ]
  },
  {
   "cell_type": "code",
   "execution_count": null,
   "metadata": {},
   "outputs": [],
   "source": [
    "# CONTINUE\n",
    "for letra in \"Python é zzz incrível!\":\n",
    "    if letra == \"z\":\n",
    "        continue\t\t#interrompe a iteração atual e continua com a próxima iteração\n",
    "    print(letra)"
   ]
  },
  {
   "cell_type": "markdown",
   "metadata": {},
   "source": [
    "### WHILE and FOR TOGETHER"
   ]
  },
  {
   "cell_type": "code",
   "execution_count": 39,
   "metadata": {},
   "outputs": [
    {
     "name": "stdout",
     "output_type": "stream",
     "text": [
      "[2, 3, 5, 7, 11, 13, 17, 19, 23, 29]\n"
     ]
    }
   ],
   "source": [
    "#NÚMEROS PRIMOS\n",
    "primos = []\n",
    "\n",
    "# Loop for para percorrer números de 2 a 30\n",
    "for lista_numeros in range(2, 31):\n",
    "    \n",
    "    # Variável de controle\n",
    "    eh_primo = True\n",
    "    \n",
    "    # Loop while para verificar se o número é primo\n",
    "    i = 2\n",
    "    while i <= lista_numeros // 2:\n",
    "        if lista_numeros % i == 0: \t\n",
    "            eh_primo = False \n",
    "            break\n",
    "        i += 1\n",
    "    \n",
    "    # Adicionando o número primo na lista\n",
    "    if eh_primo:\n",
    "        primos.append(lista_numeros)\n",
    "\n",
    "# Imprimindo a lista de números primos\n",
    "print(primos)"
   ]
  },
  {
   "cell_type": "markdown",
   "metadata": {},
   "source": [
    "# DEF / LAMBDA\n",
    "\n",
    "LAMBDA: funções anonimas"
   ]
  },
  {
   "cell_type": "markdown",
   "metadata": {},
   "source": [
    "#### Def"
   ]
  },
  {
   "cell_type": "code",
   "execution_count": null,
   "metadata": {},
   "outputs": [],
   "source": [
    "def imprimeNumeros():\n",
    "    \n",
    "    # Loop\n",
    "    for i in range(0, 5):\n",
    "        print(\"Número \" + str(i))       \n",
    "print (imprimeNumeros())"
   ]
  },
  {
   "cell_type": "code",
   "execution_count": 74,
   "metadata": {},
   "outputs": [],
   "source": [
    "#Tupla e Função\n",
    "def printVarInfo(arg1, *vartuple ):\n",
    " \n",
    "    print (\"O parâmetro passado foi: \", arg1)\n",
    "   \n",
    "    for item in vartuple:\n",
    "       print (\"O parâmetro passado foi: \", item)\n",
    "    return;"
   ]
  },
  {
   "cell_type": "code",
   "execution_count": 82,
   "metadata": {},
   "outputs": [
    {
     "name": "stdout",
     "output_type": "stream",
     "text": [
      "O parâmetro passado foi:  Chocolate\n",
      "O parâmetro passado foi:  Morango\n",
      "\n",
      "O parâmetro passado foi:  Data\n",
      "O parâmetro passado foi:  Science\n",
      "O parâmetro passado foi:  Academy\n"
     ]
    }
   ],
   "source": [
    "printVarInfo('Chocolate', 'Morango\\n')\n",
    "\n",
    "printVarInfo('Data', 'Science', 'Academy')    "
   ]
  },
  {
   "cell_type": "code",
   "execution_count": 2,
   "metadata": {},
   "outputs": [
    {
     "name": "stdout",
     "output_type": "stream",
     "text": [
      "25\n",
      "\n",
      "esse resultado é ref a Variável Global: 10\n"
     ]
    }
   ],
   "source": [
    "var_global = 10  # Esta é uma variável global\n",
    "\n",
    "# Função\n",
    "def multiplica_numeros(num1, num2):\n",
    "    var_local = num1 * num2  # Esta é uma variável local\n",
    "   #  var_local = num1 * num2\n",
    "    print(var_local)\n",
    "    \n",
    "\n",
    "multiplica_numeros(5,5) #resultado ref a varoável Local\n",
    "\n",
    "print(f'\\nesse resultado é ref a Variável Global: {var_global}')"
   ]
  },
  {
   "cell_type": "code",
   "execution_count": null,
   "metadata": {},
   "outputs": [],
   "source": [
    "# INPUT and IF / ELSE\n",
    "idade = int(input(\"Digite sua idade: \"))\n",
    "if idade > 13:\n",
    "    print(\"Você pode acessar Redes Sociais sem supervisão!\")  \n",
    "else:\n",
    "    print(\"Seus pais não deveriam você acessar Redes Sociais sem supervisão!\") "
   ]
  },
  {
   "cell_type": "markdown",
   "metadata": {},
   "source": [
    "### practicing Def "
   ]
  },
  {
   "cell_type": "code",
   "execution_count": 62,
   "metadata": {},
   "outputs": [
    {
     "name": "stdout",
     "output_type": "stream",
     "text": [
      "Este número não é primo\n"
     ]
    }
   ],
   "source": [
    "#Função que checa se o número é primo \n",
    "def numPrimo(num):\n",
    "    num = int(input(\"Digite um número: \"))\n",
    "    \n",
    "    if (num % 2) == 0 and num > 2: \n",
    "        return \"Este número não é primo\"\n",
    "    for i in range(3, int(math.sqrt(num)) + 1, 2):\n",
    "        if (num % i) == 0:\n",
    "            return \"Este número não é primo\"\n",
    "    return \"Este número é primo\"\n",
    "\n",
    "print(numPrimo(0))"
   ]
  },
  {
   "cell_type": "code",
   "execution_count": 80,
   "metadata": {},
   "outputs": [
    {
     "data": {
      "text/plain": [
       "'esse texto será convertido todo em caixa baixa/letra minúscula (lower case)'"
      ]
     },
     "execution_count": 80,
     "metadata": {},
     "output_type": "execute_result"
    }
   ],
   "source": [
    "#Função para converter uma string em caixa baixa\n",
    "frase = 'Esse Texto Será Convertido Todo Em Caixa Baixa/Letra Minúscula (Lower Case)'\n",
    "\n",
    "def lower_case(text):\n",
    "\t return text.lower()\t\t\t#lower(): converte a string em caixa baixa\n",
    "\t#  return text.split(\" \")\n",
    "\t\n",
    "lower_case(frase)"
   ]
  },
  {
   "cell_type": "code",
   "execution_count": null,
   "metadata": {},
   "outputs": [],
   "source": [
    "# Função split dos dados\n",
    "frase = \"Esta função será bastante útil para separar grandes volumes de dados.\"\n",
    "\n",
    "def split_string_letras(text):\n",
    "    frase = text.upper()\t\t#upper: converte a string em maiúscula\n",
    "   #  return frase\n",
    "    for letra in frase:\n",
    "        print(letra)\n",
    "   \n",
    "\n",
    "split_string_letras(frase)"
   ]
  },
  {
   "cell_type": "markdown",
   "metadata": {},
   "source": [
    "### Lambda"
   ]
  },
  {
   "cell_type": "code",
   "execution_count": 24,
   "metadata": {},
   "outputs": [
    {
     "name": "stdout",
     "output_type": "stream",
     "text": [
      "resultado:  25\n"
     ]
    }
   ],
   "source": [
    "potencia = lambda num: num ** 2\n",
    "print('resultado: ', potencia(5))\n",
    "\n",
    "#def potencia(num): return num ** 2"
   ]
  },
  {
   "cell_type": "code",
   "execution_count": 15,
   "metadata": {},
   "outputs": [
    {
     "name": "stdout",
     "output_type": "stream",
     "text": [
      "False\n"
     ]
    }
   ],
   "source": [
    "par = lambda x: x % 2==0 \t\t\t#checando se número é par. \toperadores de comparação retornam boolean: true or false\n",
    "print(par(3))\n",
    "\n",
    "# def par (x): \n",
    "\t# return x % 2 == 0\n",
    "# print(par(3))"
   ]
  },
  {
   "cell_type": "code",
   "execution_count": 21,
   "metadata": {},
   "outputs": [
    {
     "name": "stdout",
     "output_type": "stream",
     "text": [
      "P\n"
     ]
    }
   ],
   "source": [
    "first = lambda letra: letra[0] \t\t\t#retorna o primeiro caracter da string\n",
    "print(first('Python'))\n",
    "\n",
    "# def first(letra): return letra[0]\n",
    "# first('Python')"
   ]
  },
  {
   "cell_type": "markdown",
   "metadata": {},
   "source": [
    "# List Copreheshion\n",
    "\n",
    "List Compreheshion: loop dentro de uma lista "
   ]
  },
  {
   "cell_type": "code",
   "execution_count": 41,
   "metadata": {},
   "outputs": [
    {
     "data": {
      "text/plain": [
       "[0, 1, 2, 3, 4, 5, 6, 7, 8, 9]"
      ]
     },
     "execution_count": 41,
     "metadata": {},
     "output_type": "execute_result"
    }
   ],
   "source": [
    "\n",
    "[x for x in range(0,10)] \t\t#retorne X para cada X no intervalo de 0 a 10 \t\tOR\t \tPara cada valor de X dentro da lista de elementos (range(0,10), retorne X) "
   ]
  },
  {
   "cell_type": "code",
   "execution_count": 42,
   "metadata": {},
   "outputs": [
    {
     "name": "stdout",
     "output_type": "stream",
     "text": [
      "[0, 1, 2, 3, 4]\n"
     ]
    }
   ],
   "source": [
    "#List Comprehension com condição IF\n",
    "list_number = [x for x in range(10) if x < 5] \t\t#retorne X para cada X no intervalo de 0 a 10 se X for menor que 5\n",
    "print(list_number)"
   ]
  },
  {
   "cell_type": "code",
   "execution_count": 43,
   "metadata": {},
   "outputs": [
    {
     "name": "stdout",
     "output_type": "stream",
     "text": [
      "['melancia', 'manga']\n"
     ]
    }
   ],
   "source": [
    "#APPEND e List Comprehension\n",
    "lista_frutas = [\"banana\", \"abacate\", \"melancia\", \"cereja\", \"manga\"]\n",
    "\n",
    "nova_lista = []\n",
    "\n",
    "nova_lista = [x for x in lista_frutas if \"m\" in x]\n",
    "\n",
    "# for x in lista_frutas:\n",
    "#     if \"m\" in x: \t\t#Se a letra \"m\" estiver presente no elemento, adicione o elemento à nova lista[]\n",
    "#         nova_lista.append(x)\n",
    "\n",
    "print(nova_lista)"
   ]
  },
  {
   "cell_type": "code",
   "execution_count": 44,
   "metadata": {},
   "outputs": [
    {
     "name": "stdout",
     "output_type": "stream",
     "text": [
      "{'Bob': 68, 'Michel': 84, 'Zico': 57, 'Ana': 93}\n"
     ]
    }
   ],
   "source": [
    "#DICIONÁRIO e List Comprehension\n",
    "dict_alunos = {'Bob': 68, 'Michel': 84, 'Zico': 57, 'Ana': 93}\n",
    "\n",
    "dict_alunos_status = {k:v for (k, v) in dict_alunos.items()}\n",
    "print(dict_alunos_status)"
   ]
  },
  {
   "cell_type": "code",
   "execution_count": 45,
   "metadata": {},
   "outputs": [
    {
     "name": "stdout",
     "output_type": "stream",
     "text": [
      "{'Bob': 'Reprovado', 'Michel': 'Aprovado', 'Zico': 'Reprovado', 'Ana': 'Aprovado'}\n"
     ]
    }
   ],
   "source": [
    "#DICIONÁRIO , IF e List Comprehesion\n",
    "dict_alunos = {'Bob': 68, 'Michel': 84, 'Zico': 57, 'Ana': 93}\n",
    "\n",
    "# Criamos um novo dicionário com o status: nota maior que 70, aprovado, senão, reprovado\n",
    "dict_alunos_status = {k:('Aprovado' if v > 70 else 'Reprovado') for (k, v) in dict_alunos.items()}\n",
    "print(dict_alunos_status)"
   ]
  }
 ],
 "metadata": {
  "kernelspec": {
   "display_name": "Python 3",
   "language": "python",
   "name": "python3"
  },
  "language_info": {
   "codemirror_mode": {
    "name": "ipython",
    "version": 3
   },
   "file_extension": ".py",
   "mimetype": "text/x-python",
   "name": "python",
   "nbconvert_exporter": "python",
   "pygments_lexer": "ipython3",
   "version": "3.11.9"
  }
 },
 "nbformat": 4,
 "nbformat_minor": 2
}
