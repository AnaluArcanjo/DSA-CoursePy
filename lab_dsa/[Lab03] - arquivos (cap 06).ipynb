{
 "cells": [
  {
   "cell_type": "markdown",
   "metadata": {},
   "source": [
    "# <font color='orange'> Lab 03 - cap 06</font>\n",
    "documentação: https://docs.python.org/3.9/library/re.html"
   ]
  },
  {
   "cell_type": "code",
   "execution_count": 1,
   "metadata": {},
   "outputs": [
    {
     "name": "stdout",
     "output_type": "stream",
     "text": [
      "Versão da Linguagem Python Usada Neste Jupyter Notebook: 3.11.9\n"
     ]
    }
   ],
   "source": [
    "# Versão da Linguagem Python\n",
    "from platform import python_version\n",
    "print('Versão da Linguagem Python Usada Neste Jupyter Notebook:', python_version())"
   ]
  },
  {
   "cell_type": "code",
   "execution_count": 74,
   "metadata": {},
   "outputs": [],
   "source": [
    "import pandas as pd\n",
    "#pd.__version__\n",
    "import os\n",
    "import csv \n",
    "import json\n",
    "import random\n",
    "import statistics\n",
    "import statistics\n",
    "import numpy\n",
    "import re\n",
    "from collections import Counter\n",
    "\n",
    "from urllib import request \t#import urllib.request\n",
    "from functools import reduce\n",
    "from IPython.display import Image\n",
    "\n",
    "\n",
    "from numpy import sqrt\n"
   ]
  },
  {
   "cell_type": "code",
   "execution_count": null,
   "metadata": {},
   "outputs": [],
   "source": [
    "# Variável do tipo string\n",
    "musica = '''\n",
    "Todos os dias quando acordo\n",
    "Não tenho mais\n",
    "O tempo que passou\n",
    "Mas tenho muito tempo\n",
    "Temos todo o tempo do mundo\n",
    "Todos os dias\n",
    "Antes de dormir\n",
    "Lembro e esqueço\n",
    "Como foi o dia\n",
    "Sempre em frente\n",
    "Não temos tempo a perder\n",
    "Nosso suor sagrado\n",
    "É bem mais belo\n",
    "Que esse sangue amargo\n",
    "E tão sério\n",
    "E selvagem! Selvagem!\n",
    "Selvagem!\n",
    "Veja o sol\n",
    "Dessa manhã tão cinza\n",
    "A tempestade que chega\n",
    "É da cor dos teus olhos\n",
    "Castanhos\n",
    "Então me abraça forte\n",
    "E diz mais uma vez\n",
    "Que já estamos\n",
    "Distantes de tudo\n",
    "Temos nosso próprio tempo\n",
    "Temos nosso próprio tempo\n",
    "Temos nosso próprio tempo\n",
    "Não tenho medo do escuro\n",
    "Mas deixe as luzes\n",
    "Acesas agora\n",
    "O que foi escondido\n",
    "É o que se escondeu\n",
    "E o que foi prometido\n",
    "Ninguém prometeu\n",
    "Nem foi tempo perdido\n",
    "Somos tão jovens\n",
    "Tão jovens! Tão jovens!\n",
    "'''\n"
   ]
  },
  {
   "cell_type": "markdown",
   "metadata": {},
   "source": [
    "> 1- Crie um REGEX para contar quantas vezes o caracter \"a\" aparece em todo o texto da música.\n"
   ]
  },
  {
   "cell_type": "code",
   "execution_count": 230,
   "metadata": {},
   "outputs": [
    {
     "name": "stdout",
     "output_type": "stream",
     "text": [
      "A letra \"a\" aparece 39 vezes\n"
     ]
    }
   ],
   "source": [
    "contag_palavra = len(re.findall (\"a\", musica) )\n",
    "print(f'A letra \"a\" aparece {contag_palavra} vezes')\n"
   ]
  },
  {
   "cell_type": "markdown",
   "metadata": {},
   "source": [
    "### \\b - busca palavras especifica, sem considerar variantes dessa palavra\n",
    "> 2- Crie um REGEX em Python para contar quantas vezes a palavra tempo aparece na música.\n"
   ]
  },
  {
   "cell_type": "code",
   "execution_count": 231,
   "metadata": {},
   "outputs": [
    {
     "name": "stdout",
     "output_type": "stream",
     "text": [
      "A palavra \"TEMPO\" aparece 4 vezes.\n"
     ]
    }
   ],
   "source": [
    "contag_palavra = len((re.findall(r\"\\b tempo \\b\", musica)))  \t\t\t\t#\\b: permite que encontre apenas palavras tempo, e excluir possíveis variantes dessa palavra como:TEMPOs, TEMPOriador...\n",
    "print (f'A palavra \"TEMPO\" aparece {contag_palavra} vezes.')"
   ]
  },
  {
   "cell_type": "markdown",
   "metadata": {},
   "source": [
    "> 3- Crie um REGEX em Python para extrair as palavras seguidas por exclamação."
   ]
  },
  {
   "cell_type": "markdown",
   "metadata": {},
   "source": [
    "#### \\w para extrair a palavra que aparece após a palavra \" ...  \" em um texto"
   ]
  },
  {
   "cell_type": "code",
   "execution_count": 232,
   "metadata": {},
   "outputs": [
    {
     "name": "stdout",
     "output_type": "stream",
     "text": [
      "palavras seguidas de \"!\" são: ['selvagem!', 'Selvagem!', 'Selvagem!', 'jovens!', 'jovens!']\n"
     ]
    }
   ],
   "source": [
    "palavras = re.findall(r'\\b\\w+!', musica)\n",
    "# palavras = len(re.findall(r'(\\w+)!', musica))\n",
    "\n",
    "# print(palavras[1])\n",
    "print(f'palavras seguidas de \"!\" são:', palavras)"
   ]
  },
  {
   "cell_type": "markdown",
   "metadata": {},
   "source": [
    "#### \\s\n",
    "> 4- Crie um REGEX que extrai qualquer palavra cujo antecessor seja a palavra \"esse\" e o sucessor seja a palavra \"amargo\" em um texto."
   ]
  },
  {
   "cell_type": "code",
   "execution_count": 240,
   "metadata": {},
   "outputs": [
    {
     "name": "stdout",
     "output_type": "stream",
     "text": [
      "Palavras entre 'esse' e 'amargo': ['sangue']\n"
     ]
    }
   ],
   "source": [
    "palavras = re.findall(r\"esse\\s(\\w+)\\samargo\", musica)\n",
    "print(\"Palavras entre 'esse' e 'amargo':\", palavras)"
   ]
  },
  {
   "cell_type": "code",
   "execution_count": 237,
   "metadata": {},
   "outputs": [
    {
     "name": "stdout",
     "output_type": "stream",
     "text": [
      "Palavra(s) encontrada(s): ['sangue']\n"
     ]
    }
   ],
   "source": [
    "resultado4 = re.findall(r'\\besse\\s(\\w+)\\samargo\\b', musica)\n",
    "print(\"Palavra(s) encontrada(s):\", resultado4)"
   ]
  },
  {
   "cell_type": "markdown",
   "metadata": {},
   "source": [
    "> 5- Crie um REGEX que retorne as palavras com acento, mas somente os caracteres na palavra que são anteriores ao caracter com acento."
   ]
  },
  {
   "cell_type": "code",
   "execution_count": 248,
   "metadata": {},
   "outputs": [
    {
     "name": "stdout",
     "output_type": "stream",
     "text": [
      "Partes das palavras com acentos: []\n"
     ]
    }
   ],
   "source": [
    "palavras = re.findall(r\"(\\w+)\\b[áéíóú]\", musica)\n",
    "print(\"Partes das palavras com acentos:\", palavras)"
   ]
  },
  {
   "cell_type": "code",
   "execution_count": 246,
   "metadata": {},
   "outputs": [
    {
     "name": "stdout",
     "output_type": "stream",
     "text": [
      "Palavras com acento, sem o acento: ['N', 'esque', 'N', 't', 's', 'manh', 't', 'Ent', 'abra', 'j', 'pr', 'pr', 'pr', 'N', 'Ningu', 't', 'T', 'T']\n"
     ]
    }
   ],
   "source": [
    "resultado = re.findall(r\"(\\w+)[\\u00C0-\\u017F]+\", musica)\n",
    "print(\"Palavras com acento, sem o acento:\", resultado)"
   ]
  },
  {
   "cell_type": "code",
   "execution_count": 247,
   "metadata": {},
   "outputs": [
    {
     "name": "stdout",
     "output_type": "stream",
     "text": [
      "As palavras acentuadas são: ['Nã', 'esqueç', 'Nã', 'tã', 'sé', 'manhã', 'tã', 'Entã', 'abraç', 'já', 'pró', 'pró', 'pró', 'Nã', 'Ningué', 'tã', 'Tã', 'Tã']\n"
     ]
    }
   ],
   "source": [
    "resultado5 = re.findall(r'\\b[\\wÀ-ÿ]+[áéíóúãõç]', musica)\n",
    "print(\"As palavras acentuadas são:\", resultado5)"
   ]
  }
 ],
 "metadata": {
  "kernelspec": {
   "display_name": "Python 3",
   "language": "python",
   "name": "python3"
  },
  "language_info": {
   "codemirror_mode": {
    "name": "ipython",
    "version": 3
   },
   "file_extension": ".py",
   "mimetype": "text/x-python",
   "name": "python",
   "nbconvert_exporter": "python",
   "pygments_lexer": "ipython3",
   "version": "3.11.9"
  }
 },
 "nbformat": 4,
 "nbformat_minor": 1
}
