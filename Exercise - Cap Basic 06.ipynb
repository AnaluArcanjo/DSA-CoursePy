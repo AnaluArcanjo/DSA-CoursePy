{
 "cells": [
  {
   "cell_type": "markdown",
   "metadata": {},
   "source": [
    "# <font color='orange'>Capítulo 6</font>"
   ]
  },
  {
   "cell_type": "code",
   "execution_count": null,
   "metadata": {},
   "outputs": [],
   "source": [
    "# Versão da Linguagem Python\n",
    "from platform import python_version\n",
    "print('Versão da Linguagem Python Usada Neste Jupyter Notebook:', python_version())"
   ]
  },
  {
   "cell_type": "code",
   "execution_count": 343,
   "metadata": {},
   "outputs": [],
   "source": [
    "import pandas as pd\n",
    "#pd.__version__\n",
    "import os\n",
    "import csv \n",
    "import json\n",
    "import random\n",
    "import statistics\n",
    "import numpy\n",
    "import re\n",
    "from collections import Counter\n",
    "\n",
    "from urllib import request \t#import urllib.request\n",
    "from urllib.request import urlopen\n",
    "from functools import reduce\n",
    "from IPython.display import Image\n",
    "\n",
    "\n",
    "from numpy import sqrt"
   ]
  },
  {
   "cell_type": "markdown",
   "metadata": {},
   "source": [
    "## Exercícios "
   ]
  },
  {
   "cell_type": "markdown",
   "metadata": {},
   "source": [
    "> <font color='orange'>Exercício 1 </font> - Crie uma lista de 3 elementos e calcule a terceira potência de cada elemento."
   ]
  },
  {
   "cell_type": "code",
   "execution_count": 151,
   "metadata": {},
   "outputs": [
    {
     "name": "stdout",
     "output_type": "stream",
     "text": [
      "[8, 125, 216]\n"
     ]
    }
   ],
   "source": [
    "list_numbers = [2, 5, 6]\n",
    "\n",
    "# potencia_numeros = [x** 3 for x in list_numbers] \n",
    "potencia_numeros = list(map(lambda x: x ** 3, list_numbers))\n",
    "\n",
    "print(potencia_numeros)"
   ]
  },
  {
   "cell_type": "code",
   "execution_count": 153,
   "metadata": {},
   "outputs": [
    {
     "name": "stdout",
     "output_type": "stream",
     "text": [
      "a terceira potência de [2, 5, 6], é: [8, 125, 216]\n"
     ]
    }
   ],
   "source": [
    "#resposta DSA:\n",
    "list_numbers = [2, 5, 6]\n",
    "\n",
    "def potencia_numeros (lista):\n",
    "\tcalculo = [x** 3 for x in list_numbers]\n",
    "\treturn(calculo)\n",
    "\n",
    "resultado = potencia_numeros(list_numbers)\n",
    "print(f'a terceira potência de {list_numbers}, é:', (resultado))"
   ]
  },
  {
   "cell_type": "markdown",
   "metadata": {},
   "source": [
    "> <font color='orange'>Exercício 2 </font> - Reescreva o código abaixo, usando a função map(). O resultado final deve ser o mesmo!"
   ]
  },
  {
   "cell_type": "code",
   "execution_count": null,
   "metadata": {},
   "outputs": [],
   "source": [
    "palavras = 'A Data Science Academy oferce os melhores cursos de análise de dados do Brasil.'\n",
    "resultado = [[w.upper(), w.lower(), len(w)] for w in palavras.split()]\n",
    "\n",
    "for w in resultado:\n",
    "    print (w)"
   ]
  },
  {
   "cell_type": "code",
   "execution_count": 78,
   "metadata": {},
   "outputs": [],
   "source": [
    "# testando opção sem map()\n",
    "# for i in palavras.split():\n",
    "#    lista_palavras = (i.upper(), i.lower(), len(i))\n",
    "#    print(list(lista_palavras))"
   ]
  },
  {
   "cell_type": "code",
   "execution_count": null,
   "metadata": {},
   "outputs": [],
   "source": [
    "resultado = lambda w: [w.upper(), w.lower(), len(w)]\n",
    "result_final = list(map(resultado, palavras.split()))\n",
    "\n",
    "# result_final = list(map(lambda w:[w.upper(), w.lower(), len(w)], palavras.split()))\n",
    "\n",
    "for w in result_final:\n",
    "    print (w)"
   ]
  },
  {
   "cell_type": "markdown",
   "metadata": {},
   "source": [
    "### Exercício 3 - Calcule a matriz transposta da matriz abaixo. </br></br>\n",
    "Caso não saiba o que é matriz transposta, visite este link: https://pt.wikipedia.org/wiki/Matriz_transposta</br>\n",
    "Matriz transposta é um conceito fundamental na construção de redes neurais artificiais, base de sistemas de IA.\n"
   ]
  },
  {
   "cell_type": "code",
   "execution_count": 8,
   "metadata": {},
   "outputs": [
    {
     "name": "stdout",
     "output_type": "stream",
     "text": [
      "número de linhas da matriz: 4\n",
      "primeira linha da matriz: [1, 2]\n"
     ]
    },
    {
     "data": {
      "text/plain": [
       "range(0, 2)"
      ]
     },
     "execution_count": 8,
     "metadata": {},
     "output_type": "execute_result"
    }
   ],
   "source": [
    "matriz = [[1, 2],[3,4],[5,6],[7,8]]\n",
    "# É uma lista de listas:\n",
    "# Linha 1: [1, 2]\n",
    "# Linha 2: [3, 4]\n",
    "# Linha 3: [5, 6]\n",
    "# Linha 4: [7, 8]\n",
    "\n",
    "#transposta:\n",
    "# [[1, 3, 5, 7], \n",
    "#  [2, 4, 6, 8]]\n",
    "\n",
    "\n",
    "# matriz[:len(matriz)] \t\t\t#possui 4 linhas (listas)\n",
    "print(f'número de linhas da matriz:', len(matriz)) \t\t#numeros linhas\n",
    "print(f'primeira linha da matriz:', matriz[0])\t\t\t\t#primeira linha\n",
    "\n",
    "range(len(matriz[0]))\t\t\t#numeros de colunas    \n",
    "\n",
    "# for coluna in range(len(matriz[0])):\n",
    "#     for row in matriz:\n",
    "#         print(row[coluna])"
   ]
  },
  {
   "cell_type": "code",
   "execution_count": 9,
   "metadata": {},
   "outputs": [
    {
     "name": "stdout",
     "output_type": "stream",
     "text": [
      "Matriz Transposta:\n",
      "[1, 3, 5, 7]\n",
      "[2, 4, 6, 8]\n"
     ]
    }
   ],
   "source": [
    "matriz = [[1, 2], \n",
    "          [3, 4], \n",
    "          [5, 6], \n",
    "          [7, 8]]\n",
    "\n",
    "# Cálculo da matriz transposta\n",
    "transposta = [[row[i] for row in matriz] for i in range(len(matriz[0]))]\n",
    "\n",
    "# Imprimindo o resultado\n",
    "print(\"Matriz Transposta:\")\n",
    "for linha in transposta:\n",
    "    print(linha)\n"
   ]
  },
  {
   "cell_type": "markdown",
   "metadata": {},
   "source": [
    "> <font color='orange'>Exercício 4 </font> -Crie duas funções, uma para elevar um número ao quadrado e outra para elevar ao cubo. Aplique as duas funções aos elementos da lista abaixo. </br>  Obs: as duas funções devem ser aplicadas simultaneamente.\n"
   ]
  },
  {
   "cell_type": "code",
   "execution_count": 156,
   "metadata": {},
   "outputs": [
    {
     "name": "stdout",
     "output_type": "stream",
     "text": [
      "Ao quadrado: [0, 1, 4, 9, 16] \n",
      "Ao cubo: [0, 1, 8, 27, 64]\n",
      "\n",
      "valores(quadrado, cubo): [(0, 0), (1, 1), (4, 8), (9, 27), (16, 64)]\n",
      "\n",
      "\n"
     ]
    },
    {
     "data": {
      "text/plain": [
       "[(0, 0), (1, 1), (4, 8), (9, 27), (16, 64)]"
      ]
     },
     "execution_count": 156,
     "metadata": {},
     "output_type": "execute_result"
    }
   ],
   "source": [
    "lista = [0, 1, 2, 3, 4]\n",
    "\n",
    "def cal_quadrado (x):\n",
    "   return x**2\n",
    "\n",
    "def cal_cubo (x):\n",
    "   return x**3\n",
    "\n",
    "calculando_cubo = [cal_cubo(numero) for numero in lista ]\n",
    "calculando_quadrado = [cal_quadrado(numero) for numero in lista ]\n",
    "\n",
    "print(f'Ao quadrado: {calculando_quadrado} \\nAo cubo: {calculando_cubo}\\n')\n",
    "\n",
    "print(f'valores(quadrado, cubo): {list(zip(calculando_quadrado, calculando_cubo))}\\n\\n')\n",
    "\n",
    "# #outra opção:\n",
    "# def aplicar_funcoes(lista):\n",
    "#     resultados = []\n",
    "#     for numero in lista:\n",
    "#         quadrado = cal_quadrado(numero)\n",
    "#         cubo = cal_cubo(numero)\n",
    "        \n",
    "#         resultados.append((quadrado, cubo))  # Armazena os resultados como tupla (quadrado, cubo)\n",
    "#     return resultados\n",
    "\n",
    "# aplicar_funcoes(lista)\n",
    "\n",
    "\n",
    "# #gpt:\n",
    "# def func (x):\n",
    "#    for numero in x:\n",
    "#       print(f\"Quadrado de {numero}: {numero**2} || Cubo de {numero}: {numero**3}\")     \n",
    "# func(lista)"
   ]
  },
  {
   "cell_type": "code",
   "execution_count": 154,
   "metadata": {},
   "outputs": [
    {
     "name": "stdout",
     "output_type": "stream",
     "text": [
      "[0, 0]\n",
      "[1, 1]\n",
      "[8, 4]\n",
      "[27, 9]\n",
      "[64, 16]\n"
     ]
    }
   ],
   "source": [
    "#resposta DSA \t\t\n",
    "funcs = [cal_cubo, cal_quadrado]\n",
    "for numero in lista:\n",
    "   valor = list(map(lambda x: x(numero), funcs))\n",
    "   print((valor))"
   ]
  },
  {
   "cell_type": "markdown",
   "metadata": {},
   "source": [
    "### Exercício 5 - Abaixo você encontra duas listas. Faça com que cada elemento da listaA seja elevado ao elemento correspondente na listaB."
   ]
  },
  {
   "cell_type": "code",
   "execution_count": 208,
   "metadata": {},
   "outputs": [
    {
     "name": "stdout",
     "output_type": "stream",
     "text": [
      "[1024, 177147, 16777216]\n",
      "\n",
      "2 elevado a 10 é: 1024\n",
      "3 elevado a 11 é: 177147\n",
      "4 elevado a 12 é: 16777216\n",
      "5 elevado a - é: não possui resultado\n"
     ]
    }
   ],
   "source": [
    "listaA = [2, 3, 4, 5]\n",
    "listaB = [10, 11, 12,]\n",
    "\n",
    "\n",
    "calculando = [a ** b for a, b in zip(listaA, listaB)]\n",
    "print(f'{calculando}\\n')\n",
    "\n",
    "# for a in listaA:  \n",
    "#     for b in listaB:  \n",
    "#         print(f\"{a} elevado a  é: {a**b}\")\n",
    "# print(calculando)\n",
    "   \n",
    "\n",
    "for i in range(len(listaA)):\n",
    "\ttry:\n",
    "\t\ta = listaA[i]\n",
    "\t\tb = listaB[i]\n",
    "\t\tprint(f\"{a} elevado a {b} é: {a**b}\")\n",
    "\texcept IndexError:\n",
    "\t\tprint(f'{a} elevado a - é: não possui resultado') \n",
    "    \n",
    "\n",
    "# calculando = []\n",
    "# for a, b in zip(listaA, listaB):\n",
    "#     calculando.append(a ** b)\n",
    "# print(calculando)"
   ]
  },
  {
   "cell_type": "markdown",
   "metadata": {},
   "source": [
    "> <font color='orange'> Exercício 6</font> - Considerando o range de valores abaixo, use a função filter() para retornar  apenas os valores negativos.</font></br>\n",
    "(range(-5, 5))"
   ]
  },
  {
   "cell_type": "code",
   "execution_count": 147,
   "metadata": {},
   "outputs": [
    {
     "name": "stdout",
     "output_type": "stream",
     "text": [
      "aplicar filtro na lista: [-5, -4, -3, -2, -1, 0, 1, 2, 3, 4]\n"
     ]
    },
    {
     "data": {
      "text/plain": [
       "[-5, -4, -3, -2, -1]"
      ]
     },
     "execution_count": 147,
     "metadata": {},
     "output_type": "execute_result"
    }
   ],
   "source": [
    "lista_seq = list(range(-5, 5))\n",
    "print(f'aplicar filtro na lista:',lista_seq)\n",
    "\n",
    "list(filter(lambda x: x<0, lista_seq))\n"
   ]
  },
  {
   "cell_type": "markdown",
   "metadata": {},
   "source": [
    "> <font color='orange'> Exercício 9</font> - Usando a função filter(), encontre os valores que são comuns às duas listas abaixo.</font></br>"
   ]
  },
  {
   "cell_type": "code",
   "execution_count": 311,
   "metadata": {},
   "outputs": [
    {
     "name": "stdout",
     "output_type": "stream",
     "text": [
      "os núemeros repetidos são: [2, 3, 5, 7]\n"
     ]
    }
   ],
   "source": [
    "a = [1,2,3,5,7,9]\n",
    "b = [2,3,5,6,7,8]\n",
    "\n",
    "numeros_rep = (list(filter(lambda x: x in a, b))) \t\t\t#valores que estão e 'a' serão filtrados de 'b'\n",
    "# numeros_rep = [numero for numero in a if numero in b]\n",
    "\n",
    "print(f'os núemeros repetidos são: {numeros_rep}')\n",
    "\n",
    "\n",
    "# #forma 1 : usando def e mostrando resul um a um\n",
    "# def numeros_rep (lista1,lista2):\n",
    "# \t\tfor i in a:\n",
    "# \t\t\tif i in b:\n",
    "# \t\t\t\tprint(i)\n",
    "# numeros_rep(a,b)\n",
    "\n",
    "# #forma 2 - resultado como lista usando def\n",
    "# def numeros_rep (lista1,lista2):\n",
    "# \t\tlista= []\n",
    "\t\t\n",
    "# \t\tfor i in lista1:\n",
    "# \t\t\tif i in lista2:\n",
    "# \t\t\t\tlista.append(i)\n",
    "# \t\tprint(lista)\n",
    "# numeros_rep(a,b)\n",
    "\n",
    "# #forma 3 - result como lista usando append ()\n",
    "# lista= []\n",
    "# for i in a:\n",
    "# \tif i in b:\n",
    "# \t\tlista.append(i)\n",
    "# print(lista)"
   ]
  },
  {
   "cell_type": "markdown",
   "metadata": {},
   "source": [
    "> Exercício 8 - Considere os dois dicionários abaixo. Crie um terceiro dicionário com as chaves do dicionário 1 e os valores do dicionário 2."
   ]
  },
  {
   "cell_type": "code",
   "execution_count": null,
   "metadata": {},
   "outputs": [],
   "source": [
    "dict1 = {'a':1,'b':2}\n",
    "dict2 = {'c':4,'d':5}\n",
    "\n",
    "new_dict = dict(zip(dict1.keys(), dict2.values()))"
   ]
  },
  {
   "cell_type": "code",
   "execution_count": 394,
   "metadata": {},
   "outputs": [
    {
     "name": "stdout",
     "output_type": "stream",
     "text": [
      "{'a': 4, 'b': 5}\n"
     ]
    }
   ],
   "source": [
    "#resposta DSA\n",
    "dict_new = {}\n",
    "for d1key, d2val in list(zip(dict1, dict2.values())):\n",
    "\tdict_new[d1key] = d2val\n",
    "\n",
    "print (dict_new)"
   ]
  },
  {
   "cell_type": "markdown",
   "metadata": {},
   "source": [
    "> <font color='orange'> Exercício 9</font> - Exercício 9 - Considere a lista abaixo e retorne apenas os elementos cujo índice for maior que 5.</font></br>"
   ]
  },
  {
   "cell_type": "code",
   "execution_count": 393,
   "metadata": {},
   "outputs": [
    {
     "name": "stdout",
     "output_type": "stream",
     "text": [
      "['g', 'h']\n"
     ]
    }
   ],
   "source": [
    "lista = ['a', 'b', 'c', 'd', 'e', 'f', 'g', 'h']\n",
    "\n",
    "new_lista = []\n",
    "for i in lista:\n",
    "\tif lista.index(i) > 5:\n",
    "\t\tnew_lista.append(i)\n",
    "\t\t\n",
    "print(new_lista)\n",
    "\n",
    "\n",
    "# #resposta DSA\n",
    "# for indice, valor in list(enumerate(lista)):\n",
    "#     if indice > 5:\n",
    "#       print (valor)\n",
    "\n",
    "# list(enumerate(lista))"
   ]
  },
  {
   "cell_type": "markdown",
   "metadata": {},
   "source": [
    "> Exercício 10 - Crie um regex em Python para extrair a palavra que aparece depois das palavras: 'Data Science' na frase abaixo\n"
   ]
  },
  {
   "cell_type": "code",
   "execution_count": 121,
   "metadata": {},
   "outputs": [
    {
     "name": "stdout",
     "output_type": "stream",
     "text": [
      "A palavra após \"Data Science\" é: Academy\n"
     ]
    }
   ],
   "source": [
    "import re\n",
    "texto = 'A Data Science Academy oferece os melhores cursos de análise de dados do Brasil.'\n",
    "\n",
    "palavra = re.findall( r'Data Science (\\w+)',texto)\n",
    "print(f'A palavra após \"Data Science\" é:' , palavra[0])"
   ]
  }
 ],
 "metadata": {
  "kernelspec": {
   "display_name": "Python 3",
   "language": "python",
   "name": "python3"
  },
  "language_info": {
   "codemirror_mode": {
    "name": "ipython",
    "version": 3
   },
   "file_extension": ".py",
   "mimetype": "text/x-python",
   "name": "python",
   "nbconvert_exporter": "python",
   "pygments_lexer": "ipython3",
   "version": "3.11.9"
  }
 },
 "nbformat": 4,
 "nbformat_minor": 1
}
