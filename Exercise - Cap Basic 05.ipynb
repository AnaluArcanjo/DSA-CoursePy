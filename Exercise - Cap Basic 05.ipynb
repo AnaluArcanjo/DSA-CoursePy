{
 "cells": [
  {
   "cell_type": "markdown",
   "metadata": {},
   "source": [
    "# <font color='blue'>Data Science Academy</font>\n",
    "\n",
    "## <font color='blue'>Fundamentos de Linguagem Python Para Análise de Dados e Data Science</font>\n",
    "\n",
    "## <font color='blue'>Capítulo 5 - Exercicios de Métodos e Funções</font>"
   ]
  },
  {
   "cell_type": "code",
   "execution_count": 1,
   "metadata": {},
   "outputs": [
    {
     "name": "stdout",
     "output_type": "stream",
     "text": [
      "Versão da Linguagem Python Usada Neste Jupyter Notebook: 3.8.8\n"
     ]
    }
   ],
   "source": [
    "# Versão da Linguagem Python\n",
    "from platform import python_version\n",
    "print('Versão da Linguagem Python Usada Neste Jupyter Notebook:', python_version())"
   ]
  },
  {
   "cell_type": "markdown",
   "metadata": {},
   "source": [
    "## Exercícios - Métodos e Funções"
   ]
  },
  {
   "cell_type": "markdown",
   "metadata": {},
   "source": [
    "> 1 - Crie uma função que imprima a sequência de números pares entre 1 e 20 (a função não recebe parâmetro) e depois faça uma chamada à função para listar os números   "
   ]
  },
  {
   "cell_type": "code",
   "execution_count": null,
   "metadata": {},
   "outputs": [
    {
     "name": "stdout",
     "output_type": "stream",
     "text": [
      "0\n",
      "2\n",
      "4\n",
      "6\n",
      "8\n",
      "10\n",
      "12\n",
      "14\n",
      "16\n",
      "18\n",
      "20\n"
     ]
    }
   ],
   "source": [
    "def seq_pares ():\n",
    "    for numero in range(0,21,2):\n",
    "        print(numero)\n",
    "    \n",
    "seq_pares()"
   ]
  },
  {
   "cell_type": "markdown",
   "metadata": {},
   "source": [
    "> Exercício 2 - Crie uma função que receba uma string como argumento e retorne a mesma string em letras maiúsculas.  Faça uma chamada à função, passando como parâmetro uma string"
   ]
  },
  {
   "cell_type": "code",
   "execution_count": 42,
   "metadata": {},
   "outputs": [
    {
     "name": "stdout",
     "output_type": "stream",
     "text": [
      "TRANFORMAR TUDO EM MAIUSCULA\n"
     ]
    }
   ],
   "source": [
    "def texto_maiuscula (texto):\n",
    "   #  return texto.upper()\n",
    "\tprint(texto.upper())\n",
    "\treturn\n",
    "\n",
    "texto_maiuscula('tranformar tudo em maiuscula')\n",
    "\n"
   ]
  },
  {
   "cell_type": "markdown",
   "metadata": {},
   "source": [
    "> !!! Exercício 3"
   ]
  },
  {
   "cell_type": "markdown",
   "metadata": {},
   "source": [
    "> Exercício 3 - crie uma função que receba como parâmetro uma lista de 4 elementos, adicione 2 elementos a lista e imprima a lista"
   ]
  },
  {
   "cell_type": "code",
   "execution_count": 63,
   "metadata": {},
   "outputs": [
    {
     "name": "stdout",
     "output_type": "stream",
     "text": [
      "Lista atualizada: [1, 2, 3, 4, 24, 52]\n"
     ]
    }
   ],
   "source": [
    "minha_lista = [1, 2, 3, 4]\n",
    "\n",
    "def adicionar_elementos(lista):\n",
    "    # Adiciona 2 novos elementos à lista\n",
    "    lista.append(24)\n",
    "    lista.append(52)\n",
    "\t\n",
    "    print(\"Lista atualizada:\", lista)\n",
    "\n",
    "adicionar_elementos(minha_lista)\n",
    "\n"
   ]
  },
  {
   "cell_type": "markdown",
   "metadata": {},
   "source": [
    "> Exercício 4 - Crie uma função que receba um argumento formal e uma possível lista de elementos. Faça duas chamadas à função, com apenas 1 elemento e na segunda chamada com 4 elementos\n"
   ]
  },
  {
   "cell_type": "code",
   "execution_count": 97,
   "metadata": {},
   "outputs": [
    {
     "name": "stdout",
     "output_type": "stream",
     "text": [
      "100\n",
      "A\n",
      "B\n",
      "C\n",
      "D\n"
     ]
    }
   ],
   "source": [
    "def printNum( arg1, *lista ):\n",
    "    print (arg1)\n",
    "    for i in lista:\n",
    "        print (i)\n",
    "    return;\n",
    "\n",
    "# Chamada à função\n",
    "printNum( 100 )\n",
    "printNum( 'A', 'B', 'C', 'D' )"
   ]
  },
  {
   "cell_type": "markdown",
   "metadata": {},
   "source": [
    "> Exercício 5 - Crie uma função anônima e atribua seu retorno a uma variável chamada soma. A expressão vai receber 2 números como parâmetro e retornar a soma deles\n"
   ]
  },
  {
   "cell_type": "code",
   "execution_count": 101,
   "metadata": {},
   "outputs": [
    {
     "name": "stdout",
     "output_type": "stream",
     "text": [
      "4\n"
     ]
    }
   ],
   "source": [
    "\n",
    "soma = lambda x,y: x + y \n",
    "print(soma(2,2))\n"
   ]
  },
  {
   "cell_type": "markdown",
   "metadata": {},
   "source": [
    ">  Exercício 6 - Execute o código abaixo e certifique-se que compreende a diferença entre variável global e local"
   ]
  },
  {
   "cell_type": "code",
   "execution_count": 102,
   "metadata": {},
   "outputs": [
    {
     "name": "stdout",
     "output_type": "stream",
     "text": [
      "Dentro da função o total é:  30\n",
      "Fora da função o total é:  0\n"
     ]
    }
   ],
   "source": [
    "total = 0\n",
    "def soma( arg1, arg2 ):\n",
    "    total = arg1 + arg2; \n",
    "    print (\"Dentro da função o total é: \", total)\n",
    "    return total;\n",
    "\n",
    "\n",
    "soma( 10, 20 );\n",
    "print (\"Fora da função o total é: \", total)"
   ]
  },
  {
   "cell_type": "markdown",
   "metadata": {},
   "source": [
    ">  Exercício 7 - Abaixo você encontra uma lista com temperaturas em graus Celsius. crie uma função anônima que converta cada temperatura para Fahrenheit. Dica: para conseguir realizar este exercício, você deve criar sua função lambda, dentro dp MAP\n"
   ]
  },
  {
   "cell_type": "code",
   "execution_count": 2,
   "metadata": {},
   "outputs": [
    {
     "name": "stdout",
     "output_type": "stream",
     "text": [
      "[102, 97, 99, 100]\n"
     ]
    }
   ],
   "source": [
    "Celsius = [39.2, 36.5, 37.3, 37.8]\n",
    "Fahrenheit = map(lambda t: int(t * 1.8) + 32, Celsius)\n",
    "\n",
    "\n",
    "print (list(Fahrenheit))\n",
    "\n",
    "\n",
    "\n",
    "##Outras formas de resolver o exercício 7:\n",
    "# transf_temperatura = lambda t:  int(t * 1.8 + 32)\n",
    "# list(map(transf_temperatura, Celsius))\n",
    "\n",
    "\n",
    "# #Função DEF para converter Celsius para Fahrenheit  \n",
    "# def tranf_temperatura (t):\n",
    "# \tprint(int(t * 1.8 + 32))\n",
    "# \treturn;\n",
    "\n",
    "# list(map(tranf_temperatura, Celsius))"
   ]
  },
  {
   "cell_type": "code",
   "execution_count": 34,
   "metadata": {},
   "outputs": [
    {
     "name": "stdout",
     "output_type": "stream",
     "text": [
      "[102.56, 97.7, 99.14, 100.03999999999999]\n"
     ]
    }
   ],
   "source": [
    "Celsius = [39.2, 36.5, 37.3, 37.8]\n",
    "\n",
    "# Função para converter Celsius em Fahrenheit\n",
    "def celsius_para_fahrenheit(celsius):\n",
    "    return celsius * 1.8 + 32\n",
    "\n",
    "# Função para aplicar a conversão usando map\n",
    "def Fahrenheit(t):\n",
    "    return list(map(celsius_para_fahrenheit, t))\n",
    "\n",
    "# Chama a função e imprime o resultado\n",
    "resultado = Fahrenheit(Celsius)\n",
    "print(resultado)"
   ]
  },
  {
   "cell_type": "markdown",
   "metadata": {},
   "source": [
    "> Exercício 8 - Crie uma list comprehension que imprima o quadrado dos números de 1 a 10"
   ]
  },
  {
   "cell_type": "code",
   "execution_count": 27,
   "metadata": {},
   "outputs": [
    {
     "data": {
      "text/plain": [
       "[1, 4, 9, 16, 25, 36, 49, 64, 81, 100]"
      ]
     },
     "execution_count": 27,
     "metadata": {},
     "output_type": "execute_result"
    }
   ],
   "source": [
    "[x**2 for x in range(1,11)]"
   ]
  },
  {
   "cell_type": "markdown",
   "metadata": {},
   "source": [
    "> Exercício 9 - Crie uma list comprehension que imprima as lista com a palavra a no nome"
   ]
  },
  {
   "cell_type": "code",
   "execution_count": 66,
   "metadata": {},
   "outputs": [
    {
     "name": "stdout",
     "output_type": "stream",
     "text": [
      "['maça']\n"
     ]
    }
   ],
   "source": [
    "lista = [\"maça\", \"coiote\", \"banana\", \"terreno\", \"Python\"]\n",
    "\n",
    "nova_lista = []\n",
    "\n",
    "nova_lista = [palavra for palavra in lista if \"m\" in palavra] \t\n",
    "\n",
    "## Outra forma de fazer\n",
    "# for palavra in lista:\n",
    "# \tif \"m\" in palavra:\n",
    "# \t\t# print(((palavra)))\n",
    "# \t\tnova_lista.append(palavra)\n",
    "\n",
    "print(nova_lista)\n",
    "\n"
   ]
  },
  {
   "cell_type": "markdown",
   "metadata": {},
   "source": [
    "> Exercício 10 - Crie uma list comprehension que imprima os números menores que 5 em um intervalo de 1 a 10"
   ]
  },
  {
   "cell_type": "code",
   "execution_count": 75,
   "metadata": {},
   "outputs": [
    {
     "name": "stdout",
     "output_type": "stream",
     "text": [
      "lista de numeros menores que 5: [0, 1, 2, 3, 4]\n"
     ]
    }
   ],
   "source": [
    "lista_numeros = [numero for numero in range(0,11) if numero < 5 ]\n",
    "print('lista de numeros menores que 5:', lista_numeros)"
   ]
  },
  {
   "cell_type": "markdown",
   "metadata": {},
   "source": [
    "# Exercícios [Part 2]\n"
   ]
  },
  {
   "cell_type": "markdown",
   "metadata": {},
   "source": [
    "> Exercício 10 - Crie uma list comprehension que imprima os números menores que 5 em um intervalo de 1 a 10\n",
    "> "
   ]
  },
  {
   "cell_type": "code",
   "execution_count": 1,
   "metadata": {},
   "outputs": [
    {
     "name": "stdout",
     "output_type": "stream",
     "text": [
      "Você precisa trabalhar, hoje é: Sexta\n"
     ]
    }
   ],
   "source": [
    "\n",
    "dia_semana = [ 'Segunda', 'Terça', 'Quarta', 'Quinta', 'Sexta']\n",
    "final_semana = ['Sabado', 'Domingo']\n",
    "\n",
    "# # Transformando em letras minúsculas\n",
    "# dia_semana = [dia.lower() for dia in dia_semana]\n",
    "# final_semana = [final.lower() for final in final_semana]\n",
    "\n",
    "def dias():\n",
    "\tinput_dia = input('Qual o dia da semana?').strip()\n",
    "\n",
    "\tif input_dia in final_semana:\n",
    "\t\tprint('Hoje é dia de descanso! Hoje é:', input_dia)\n",
    "\telif input_dia in dia_semana:\n",
    "\t\tprint('Você precisa trabalhar, hoje é:', input_dia)\n",
    "\telse: \n",
    "\t\tprint('Dia inválido:', input_dia)\n",
    "\n",
    "dias()"
   ]
  },
  {
   "cell_type": "markdown",
   "metadata": {},
   "source": [
    ">  Exercício 2 - Crie uma lista de 5 frutas e verifique se a fruta 'Morango' faz parte da lista"
   ]
  },
  {
   "cell_type": "code",
   "execution_count": 2,
   "metadata": {},
   "outputs": [
    {
     "name": "stdout",
     "output_type": "stream",
     "text": [
      "A palavra: ['Morango'] está na lista de frutas\n"
     ]
    }
   ],
   "source": [
    "\n",
    "lista_frutas = ['Banana', 'Maça', 'Uva', 'Morango', 'Pera']\n",
    "\n",
    "print('A palavra:',[palavra for palavra in lista_frutas if palavra =='Morango'], 'está na lista de frutas')\n"
   ]
  },
  {
   "cell_type": "markdown",
   "metadata": {},
   "source": [
    "> Exercício 3 - Crie uma tupla de 4 elementos, multiplique cada elemento da tupla por 2 e guarde os resultados em uma lista\n"
   ]
  },
  {
   "cell_type": "code",
   "execution_count": 3,
   "metadata": {},
   "outputs": [
    {
     "name": "stdout",
     "output_type": "stream",
     "text": [
      "[2, 4, 6, 8]\n"
     ]
    }
   ],
   "source": [
    "tupla1 = (1, 2, 3, 4)\n",
    "\n",
    "tupla1 = list([(numeros *2) for numeros in tupla1])\n",
    "print(tupla1)\n",
    "\n",
    "# # #outra forma de fazer o exercício 3\n",
    "# tupla1 = (1, 2, 3, 4)\n",
    "# lista_nova = []\n",
    "\n",
    "# for numeros in tupla1:\n",
    "#     novo_valor = numeros * 2\n",
    "#     lista_nova.append(novo_valor)\n",
    "    \n",
    "# print(lista_nova)\n",
    "# print(tupla1)"
   ]
  },
  {
   "cell_type": "markdown",
   "metadata": {},
   "source": [
    "> Exercício 4 - Crie uma sequência de números pares entre 100 e 150 e imprima na tela\n"
   ]
  },
  {
   "cell_type": "code",
   "execution_count": 5,
   "metadata": {},
   "outputs": [
    {
     "name": "stdout",
     "output_type": "stream",
     "text": [
      "100\n",
      "102\n",
      "104\n",
      "106\n",
      "108\n",
      "110\n",
      "112\n",
      "114\n",
      "116\n",
      "118\n",
      "120\n",
      "122\n",
      "124\n",
      "126\n",
      "128\n",
      "130\n",
      "132\n",
      "134\n",
      "136\n",
      "138\n",
      "140\n",
      "142\n",
      "144\n",
      "146\n",
      "148\n",
      "150\n"
     ]
    }
   ],
   "source": [
    "\n",
    "for i in range(100, 151, 2):\n",
    "    print(i)"
   ]
  },
  {
   "cell_type": "markdown",
   "metadata": {},
   "source": [
    "> Exercício 5 - Crie uma variável chamada temperatura e atribua o valor 40. Enquanto temperatura for maior que 35, imprima as temperaturas na tela\n"
   ]
  },
  {
   "cell_type": "code",
   "execution_count": null,
   "metadata": {},
   "outputs": [],
   "source": [
    "temperatura = 40\n",
    "\n",
    "while temperatura > 35:\n",
    "    print(temperatura)\n",
    "    temperatura -= 1\n",
    "\t"
   ]
  },
  {
   "cell_type": "markdown",
   "metadata": {},
   "source": [
    "> Exercício 6 - Crie uma variável chamada contador = 0. Enquanto counter for menor que 100, imprima os valores na tela, mas quando for encontrado o valor 23, interrompa a execução do programa\n"
   ]
  },
  {
   "cell_type": "code",
   "execution_count": null,
   "metadata": {},
   "outputs": [],
   "source": [
    "\n",
    "contador = 0 \n",
    "\n",
    "while contador < 100:\n",
    "\tcontador += 1 \t\t#contador = contador + 1\n",
    "\tprint(contador)\n",
    "    \n",
    "\tif contador == 23:\n",
    "\t\tprint('A contagem está programada para parar no número 23')\n",
    "\t\tbreak;\n",
    "         "
   ]
  },
  {
   "cell_type": "markdown",
   "metadata": {},
   "source": [
    "> Exercício 7 - Crie uma lista vazia e uma variável com valor 4. Enquanto o valor da variável for menor ou igual a 20,  adicione à lista, apenas os valores pares e imprima a lista\n"
   ]
  },
  {
   "cell_type": "code",
   "execution_count": null,
   "metadata": {},
   "outputs": [],
   "source": [
    "lista = []\n",
    "number = 4\n",
    "\n",
    "while number <= 20:\n",
    "\tlista.append(number)\n",
    "\tnumber += 2\n",
    "\n",
    "print(lista)"
   ]
  },
  {
   "cell_type": "markdown",
   "metadata": {},
   "source": [
    "> Exercício 8 - Transforme o resultado desta função range em uma lista: range(5, 45, 2)"
   ]
  },
  {
   "cell_type": "code",
   "execution_count": null,
   "metadata": {},
   "outputs": [],
   "source": [
    "nums = range(5, 45, 2)\n",
    "\n",
    "print(list(nums))"
   ]
  },
  {
   "cell_type": "markdown",
   "metadata": {},
   "source": [
    "> Exercício 9 - Faça a correção dos erros no código abaixo e execute o programa. Dica: são 3 erros. "
   ]
  },
  {
   "cell_type": "code",
   "execution_count": null,
   "metadata": {},
   "outputs": [],
   "source": [
    "temperatura = float(input('Qual a temperatura?'))\n",
    "\n",
    "if temperatura > 30:\n",
    "\tprint('Vista roupas leves.')\n",
    "else:\n",
    "\tprint('Busque seus casacos.')\n"
   ]
  },
  {
   "cell_type": "markdown",
   "metadata": {},
   "source": [
    "> Exercício 10 - Faça um programa que conte quantas vezes a letra \"r\" aparece na frase abaixo. Use um placeholder na sua instrução de impressão. \n"
   ]
  },
  {
   "cell_type": "code",
   "execution_count": null,
   "metadata": {},
   "outputs": [],
   "source": [
    "frase = \"A gratidão é a virtude das almas nobres. O quão feliz é uma pessoa depende da profundidade de sua gratidão.\" \n",
    "\n",
    "letra = input('Digite a letra voce gostaria de consultar na frase: ')\n",
    "\n",
    "if letra in frase:\n",
    "\tcontagem = frase.count(letra)\n",
    "\tprint('A letra \"%s\" aparece %r vezes' %(letra, contagem))\n",
    "else:\n",
    "\tprint(' A letra \"%s\" não é identificada na frase' %(letra))\n",
    "\n",
    "\n",
    "# count = 0\n",
    "# for caracter in frase:\n",
    "#     if caracter == 'r':\n",
    "#         count += 1\n",
    "# print(\"O caracter r aparece %s vezes na frase.\" %(count))\n"
   ]
  }
 ],
 "metadata": {
  "kernelspec": {
   "display_name": "Python 3",
   "language": "python",
   "name": "python3"
  },
  "language_info": {
   "codemirror_mode": {
    "name": "ipython",
    "version": 3
   },
   "file_extension": ".py",
   "mimetype": "text/x-python",
   "name": "python",
   "nbconvert_exporter": "python",
   "pygments_lexer": "ipython3",
   "version": "3.11.9"
  }
 },
 "nbformat": 4,
 "nbformat_minor": 1
}
