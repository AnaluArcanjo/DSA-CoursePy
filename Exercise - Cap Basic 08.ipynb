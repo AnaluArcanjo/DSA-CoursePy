{
 "cells": [
  {
   "cell_type": "markdown",
   "metadata": {},
   "source": [
    "# <font color='orange'>Data Science Academy</font>\n",
    "\n",
    "## <font color='orange'>Fundamentos de Linguagem Python Para Análise de Dados e Data Science</font>\n",
    "\n",
    "## <font color='orange'>Introdução à Programação Orientada a Objetos</font>"
   ]
  },
  {
   "cell_type": "code",
   "execution_count": 1,
   "metadata": {},
   "outputs": [
    {
     "name": "stdout",
     "output_type": "stream",
     "text": [
      "Versão da Linguagem Python Usada Neste Jupyter Notebook: 3.11.9\n"
     ]
    }
   ],
   "source": [
    "# Versão da Linguagem Python\n",
    "from platform import python_version\n",
    "print('Versão da Linguagem Python Usada Neste Jupyter Notebook:', python_version())"
   ]
  },
  {
   "cell_type": "markdown",
   "metadata": {},
   "source": [
    "> <font color='orange'>Exercício 1 </font> - Crie um objeto a partir da classe abaixo, chamado roc1, passando 2 parâmetros e depois faça uma chamada aos atributos e métodos"
   ]
  },
  {
   "cell_type": "code",
   "execution_count": null,
   "metadata": {},
   "outputs": [],
   "source": [
    "from math import sqrt\n",
    "\n",
    "class Rocket():\n",
    "     \n",
    "    def __init__(self, x=0, y=0):\n",
    "        self.x = x\n",
    "        self.y = y\n",
    "        \n",
    "    def move_rocket(self, x_increment=0, y_increment=1):\n",
    "        self.x += x_increment  \t\t\t#self.x = self.x + x_increment\n",
    "        self.y += y_increment\t\t\t\t#self.y = self.y + y_increment\n",
    "        \n",
    "    def print_rocket(self):\n",
    "        print(self.x, self.y)\n"
   ]
  },
  {
   "cell_type": "code",
   "execution_count": null,
   "metadata": {},
   "outputs": [],
   "source": [
    "roc1 = Rocket(10,34)\n",
    "\n",
    "roc1.print_rocket() \n",
    "print(f\"\\nvalor1: {roc1.x}\")\n",
    "print(f\"valor2: {roc1.y}\\n\")\n",
    "\n",
    "roc1.move_rocket(11,1)\n",
    "roc1.print_rocket()"
   ]
  },
  {
   "cell_type": "markdown",
   "metadata": {},
   "source": [
    "> <font color='orange'>Exercício 2 </font> - Crie uma classe chamada Pessoa() com os atributos: nome, cidade, telefone e e-mail. Use pelo menos 2 métodos especiais na sua classe. Crie um objeto da sua classe e faça uma chamada a pelo menos um dos seus métodos especiais.\n"
   ]
  },
  {
   "cell_type": "code",
   "execution_count": null,
   "metadata": {},
   "outputs": [],
   "source": [
    "class Pessoa():\n",
    "   \n",
    "   def __init__(self, nome, cidade, telefone, contato_email):\n",
    "      self.name = nome\n",
    "      self.city = cidade\n",
    "      self.tel = telefone\n",
    "      self.email = contato_email\n",
    "      # print(\"Objeto criado\")\n",
    "\n",
    "   def __str__(self):\n",
    "      return (f\"O usuário {self.name} mora na cidade {self.city}\")\n",
    "\n",
    "\n",
    "fulano1 = Pessoa(\"Pele\", \"SP\", 99887766, \"pele@gmail.com\")\n",
    "\n",
    "# fulano1.name\n",
    "fulano1.city\n",
    "str(fulano1)   "
   ]
  },
  {
   "cell_type": "markdown",
   "metadata": {},
   "source": [
    "> Exercício 3 - Crie a classe Smartphone com 2 atributos, tamanho e interface e crie a classe MP3Player com os atributos capacidade. A classe MP3player deve herdar os atributos da classe Smartphone.\n"
   ]
  },
  {
   "cell_type": "code",
   "execution_count": null,
   "metadata": {},
   "outputs": [],
   "source": [
    "class Smartphone:\n",
    "   \n",
    "\tdef __init__(self, tamanho, interface):\n",
    "\t\tself.size = tamanho\n",
    "\t\tself.interface = interface\n",
    "\t\t\n",
    "\n",
    "\n",
    "class Mp3player(Smartphone):\n",
    "\n",
    "\tdef __init__(self):\n",
    "\t\tSmartphone.__init__(self)\n",
    "\t\tprint(\"atualização do aparelho feita!\")"
   ]
  },
  {
   "cell_type": "code",
   "execution_count": null,
   "metadata": {},
   "outputs": [],
   "source": []
  }
 ],
 "metadata": {
  "kernelspec": {
   "display_name": "Python 3",
   "language": "python",
   "name": "python3"
  },
  "language_info": {
   "codemirror_mode": {
    "name": "ipython",
    "version": 3
   },
   "file_extension": ".py",
   "mimetype": "text/x-python",
   "name": "python",
   "nbconvert_exporter": "python",
   "pygments_lexer": "ipython3",
   "version": "3.11.9"
  }
 },
 "nbformat": 4,
 "nbformat_minor": 1
}
